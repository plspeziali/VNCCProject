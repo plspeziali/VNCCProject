{
 "cells": [
  {
   "cell_type": "code",
   "execution_count": 37,
   "metadata": {
    "cell_id": "4855000f42264e0ea002cbe28bab92a6",
    "deepnote_cell_type": "code",
    "deepnote_to_be_reexecuted": false,
    "execution_millis": 33,
    "execution_start": 1681836134404,
    "pycharm": {
     "name": "#%%\n"
    },
    "source_hash": "bb49aefe"
   },
   "outputs": [],
   "source": [
    "import pandas as pd\n",
    "import numpy as np\n",
    "import seaborn as sns\n",
    "import matplotlib.pyplot as plt\n",
    "\n",
    "from sklearn.preprocessing import StandardScaler\n",
    "from sklearn.preprocessing import OneHotEncoder\n",
    "from sklearn.preprocessing import OrdinalEncoder\n",
    "\n",
    "from sklearn.preprocessing import StandardScaler, MinMaxScaler\n",
    "\n",
    "from sklearn.model_selection import train_test_split\n",
    "\n",
    "from xgboost import XGBClassifier\n",
    "\n",
    "from sklearn.model_selection import GridSearchCV\n",
    "\n",
    "from sklearn.metrics import confusion_matrix,accuracy_score\n",
    "\n",
    "import pickle"
   ]
  },
  {
   "cell_type": "markdown",
   "metadata": {
    "cell_id": "e915de3179714738a4b53fd6ff9cd5be",
    "deepnote_cell_type": "text-cell-h3",
    "formattedRanges": [],
    "pycharm": {
     "name": "#%% md\n"
    }
   },
   "source": [
    "### Loading Dataset"
   ]
  },
  {
   "cell_type": "code",
   "execution_count": null,
   "metadata": {},
   "outputs": [],
   "source": [
    "import psycopg2\n",
    "\n",
    "conn = psycopg2.connect(database=\"body-performance\",\n",
    "                        host=\"localhost\",\n",
    "                        user=\"admin\",\n",
    "                        password=\"admin\",\n",
    "                        port=\"5432\")\n",
    "\n",
    "# Creazione del cursore per eseguire le query\n",
    "cur = conn.cursor()\n",
    "\n",
    "# Esecuzione della query per estrarre tutte le tabelle e colonne del database\n",
    "cur.execute(\"SELECT * FROM body_performance\")\n",
    "\n",
    "# Estrazione dei risultati della query\n",
    "results = cur.fetchall()\n",
    "\n",
    "# Chiusura del cursore e della connessione al database\n",
    "cur.close()\n",
    "conn.close()\n",
    "\n",
    "# Scrittura dei risultati in un file CSV\n",
    "with open('bodyPerformance.csv', 'w', newline='') as csvfile:\n",
    "    writer = csv.writer(csvfile)\n",
    "    writer.writerow(['Table Name', 'Column Name'])\n",
    "    for row in results:\n",
    "        writer.writerow(row)"
   ]
  },
  {
   "cell_type": "code",
   "execution_count": 2,
   "metadata": {
    "cell_id": "bdc354cf302146f29a28e26026f93883",
    "deepnote_cell_type": "code",
    "deepnote_to_be_reexecuted": false,
    "execution_millis": 14,
    "execution_start": 1681836107043,
    "pycharm": {
     "name": "#%%\n"
    },
    "source_hash": "a3394b7d"
   },
   "outputs": [],
   "source": [
    "df = pd.read_csv('bodyPerformance.csv')"
   ]
  },
  {
   "cell_type": "markdown",
   "metadata": {
    "cell_id": "ae68bffd53e845f081183ba20b687549",
    "deepnote_cell_type": "text-cell-h3",
    "formattedRanges": [],
    "pycharm": {
     "name": "#%% md\n"
    }
   },
   "source": [
    "### Exploratory data analysis"
   ]
  },
  {
   "cell_type": "code",
   "execution_count": 3,
   "metadata": {
    "cell_id": "f48b2bfbd5e54b7aba0f418c020d0b30",
    "deepnote_cell_type": "code",
    "deepnote_to_be_reexecuted": false,
    "execution_millis": 92,
    "execution_start": 1681836107058,
    "pycharm": {
     "name": "#%%\n"
    },
    "source_hash": "c085b6ba"
   },
   "outputs": [
    {
     "data": {
      "application/vnd.deepnote.dataframe.v3+json": {
       "column_count": 12,
       "columns": [
        {
         "dtype": "float64",
         "name": "age",
         "stats": {
          "histogram": [
           {
            "bin_end": 25.7,
            "bin_start": 25,
            "count": 1
           },
           {
            "bin_end": 26.4,
            "bin_start": 25.7,
            "count": 0
           },
           {
            "bin_end": 27.1,
            "bin_start": 26.4,
            "count": 1
           },
           {
            "bin_end": 27.8,
            "bin_start": 27.1,
            "count": 0
           },
           {
            "bin_end": 28.5,
            "bin_start": 27.8,
            "count": 1
           },
           {
            "bin_end": 29.2,
            "bin_start": 28.5,
            "count": 0
           },
           {
            "bin_end": 29.9,
            "bin_start": 29.2,
            "count": 0
           },
           {
            "bin_end": 30.6,
            "bin_start": 29.9,
            "count": 0
           },
           {
            "bin_end": 31.3,
            "bin_start": 30.6,
            "count": 1
           },
           {
            "bin_end": 32,
            "bin_start": 31.3,
            "count": 1
           }
          ],
          "max": "32.0",
          "min": "25.0",
          "nan_count": 0,
          "unique_count": 5
         }
        },
        {
         "dtype": "object",
         "name": "gender",
         "stats": {
          "categories": [
           {
            "count": 5,
            "name": "M"
           }
          ],
          "nan_count": 0,
          "unique_count": 1
         }
        },
        {
         "dtype": "float64",
         "name": "height_cm",
         "stats": {
          "histogram": [
           {
            "bin_end": 166.46,
            "bin_start": 165,
            "count": 1
           },
           {
            "bin_end": 167.92,
            "bin_start": 166.46,
            "count": 0
           },
           {
            "bin_end": 169.38,
            "bin_start": 167.92,
            "count": 0
           },
           {
            "bin_end": 170.84,
            "bin_start": 169.38,
            "count": 0
           },
           {
            "bin_end": 172.3,
            "bin_start": 170.84,
            "count": 0
           },
           {
            "bin_end": 173.76,
            "bin_start": 172.3,
            "count": 1
           },
           {
            "bin_end": 175.22,
            "bin_start": 173.76,
            "count": 2
           },
           {
            "bin_end": 176.68,
            "bin_start": 175.22,
            "count": 0
           },
           {
            "bin_end": 178.14,
            "bin_start": 176.68,
            "count": 0
           },
           {
            "bin_end": 179.6,
            "bin_start": 178.14,
            "count": 1
           }
          ],
          "max": "179.6",
          "min": "165.0",
          "nan_count": 0,
          "unique_count": 5
         }
        },
        {
         "dtype": "float64",
         "name": "weight_kg",
         "stats": {
          "histogram": [
           {
            "bin_end": 58.019999999999996,
            "bin_start": 55.8,
            "count": 1
           },
           {
            "bin_end": 60.239999999999995,
            "bin_start": 58.019999999999996,
            "count": 0
           },
           {
            "bin_end": 62.459999999999994,
            "bin_start": 60.239999999999995,
            "count": 0
           },
           {
            "bin_end": 64.67999999999999,
            "bin_start": 62.459999999999994,
            "count": 0
           },
           {
            "bin_end": 66.9,
            "bin_start": 64.67999999999999,
            "count": 0
           },
           {
            "bin_end": 69.12,
            "bin_start": 66.9,
            "count": 1
           },
           {
            "bin_end": 71.34,
            "bin_start": 69.12,
            "count": 1
           },
           {
            "bin_end": 73.56,
            "bin_start": 71.34,
            "count": 0
           },
           {
            "bin_end": 75.78,
            "bin_start": 73.56,
            "count": 1
           },
           {
            "bin_end": 78,
            "bin_start": 75.78,
            "count": 1
           }
          ],
          "max": "78.0",
          "min": "55.8",
          "nan_count": 0,
          "unique_count": 5
         }
        },
        {
         "dtype": "float64",
         "name": "body fat_%",
         "stats": {
          "histogram": [
           {
            "bin_end": 16.259999999999998,
            "bin_start": 15.7,
            "count": 1
           },
           {
            "bin_end": 16.82,
            "bin_start": 16.259999999999998,
            "count": 0
           },
           {
            "bin_end": 17.38,
            "bin_start": 16.82,
            "count": 1
           },
           {
            "bin_end": 17.94,
            "bin_start": 17.38,
            "count": 0
           },
           {
            "bin_end": 18.5,
            "bin_start": 17.94,
            "count": 1
           },
           {
            "bin_end": 19.060000000000002,
            "bin_start": 18.5,
            "count": 0
           },
           {
            "bin_end": 19.62,
            "bin_start": 19.060000000000002,
            "count": 0
           },
           {
            "bin_end": 20.18,
            "bin_start": 19.62,
            "count": 1
           },
           {
            "bin_end": 20.740000000000002,
            "bin_start": 20.18,
            "count": 0
           },
           {
            "bin_end": 21.3,
            "bin_start": 20.740000000000002,
            "count": 1
           }
          ],
          "max": "21.3",
          "min": "15.7",
          "nan_count": 0,
          "unique_count": 5
         }
        },
        {
         "dtype": "float64",
         "name": "diastolic",
         "stats": {
          "histogram": [
           {
            "bin_end": 72.2,
            "bin_start": 70,
            "count": 1
           },
           {
            "bin_end": 74.4,
            "bin_start": 72.2,
            "count": 0
           },
           {
            "bin_end": 76.6,
            "bin_start": 74.4,
            "count": 1
           },
           {
            "bin_end": 78.8,
            "bin_start": 76.6,
            "count": 1
           },
           {
            "bin_end": 81,
            "bin_start": 78.8,
            "count": 1
           },
           {
            "bin_end": 83.2,
            "bin_start": 81,
            "count": 0
           },
           {
            "bin_end": 85.4,
            "bin_start": 83.2,
            "count": 0
           },
           {
            "bin_end": 87.6,
            "bin_start": 85.4,
            "count": 0
           },
           {
            "bin_end": 89.8,
            "bin_start": 87.6,
            "count": 0
           },
           {
            "bin_end": 92,
            "bin_start": 89.8,
            "count": 1
           }
          ],
          "max": "92.0",
          "min": "70.0",
          "nan_count": 0,
          "unique_count": 5
         }
        },
        {
         "dtype": "float64",
         "name": "systolic",
         "stats": {
          "histogram": [
           {
            "bin_end": 128.6,
            "bin_start": 126,
            "count": 2
           },
           {
            "bin_end": 131.2,
            "bin_start": 128.6,
            "count": 1
           },
           {
            "bin_end": 133.8,
            "bin_start": 131.2,
            "count": 0
           },
           {
            "bin_end": 136.4,
            "bin_start": 133.8,
            "count": 0
           },
           {
            "bin_end": 139,
            "bin_start": 136.4,
            "count": 0
           },
           {
            "bin_end": 141.6,
            "bin_start": 139,
            "count": 0
           },
           {
            "bin_end": 144.2,
            "bin_start": 141.6,
            "count": 0
           },
           {
            "bin_end": 146.8,
            "bin_start": 144.2,
            "count": 0
           },
           {
            "bin_end": 149.4,
            "bin_start": 146.8,
            "count": 1
           },
           {
            "bin_end": 152,
            "bin_start": 149.4,
            "count": 1
           }
          ],
          "max": "152.0",
          "min": "126.0",
          "nan_count": 0,
          "unique_count": 5
         }
        },
        {
         "dtype": "float64",
         "name": "gripForce",
         "stats": {
          "histogram": [
           {
            "bin_end": 38.25,
            "bin_start": 36.4,
            "count": 1
           },
           {
            "bin_end": 40.1,
            "bin_start": 38.25,
            "count": 0
           },
           {
            "bin_end": 41.95,
            "bin_start": 40.1,
            "count": 1
           },
           {
            "bin_end": 43.8,
            "bin_start": 41.95,
            "count": 1
           },
           {
            "bin_end": 45.65,
            "bin_start": 43.8,
            "count": 1
           },
           {
            "bin_end": 47.5,
            "bin_start": 45.65,
            "count": 0
           },
           {
            "bin_end": 49.35,
            "bin_start": 47.5,
            "count": 0
           },
           {
            "bin_end": 51.2,
            "bin_start": 49.35,
            "count": 0
           },
           {
            "bin_end": 53.05,
            "bin_start": 51.2,
            "count": 0
           },
           {
            "bin_end": 54.9,
            "bin_start": 53.05,
            "count": 1
           }
          ],
          "max": "54.9",
          "min": "36.4",
          "nan_count": 0,
          "unique_count": 5
         }
        },
        {
         "dtype": "float64",
         "name": "sit and bend forward_cm",
         "stats": {
          "histogram": [
           {
            "bin_end": 13.51,
            "bin_start": 12,
            "count": 1
           },
           {
            "bin_end": 15.02,
            "bin_start": 13.51,
            "count": 0
           },
           {
            "bin_end": 16.53,
            "bin_start": 15.02,
            "count": 2
           },
           {
            "bin_end": 18.04,
            "bin_start": 16.53,
            "count": 0
           },
           {
            "bin_end": 19.55,
            "bin_start": 18.04,
            "count": 1
           },
           {
            "bin_end": 21.060000000000002,
            "bin_start": 19.55,
            "count": 0
           },
           {
            "bin_end": 22.57,
            "bin_start": 21.060000000000002,
            "count": 0
           },
           {
            "bin_end": 24.080000000000002,
            "bin_start": 22.57,
            "count": 0
           },
           {
            "bin_end": 25.590000000000003,
            "bin_start": 24.080000000000002,
            "count": 0
           },
           {
            "bin_end": 27.1,
            "bin_start": 25.590000000000003,
            "count": 1
           }
          ],
          "max": "27.1",
          "min": "12.0",
          "nan_count": 0,
          "unique_count": 5
         }
        },
        {
         "dtype": "float64",
         "name": "sit-ups counts",
         "stats": {
          "histogram": [
           {
            "bin_end": 46.5,
            "bin_start": 45,
            "count": 1
           },
           {
            "bin_end": 48,
            "bin_start": 46.5,
            "count": 0
           },
           {
            "bin_end": 49.5,
            "bin_start": 48,
            "count": 1
           },
           {
            "bin_end": 51,
            "bin_start": 49.5,
            "count": 0
           },
           {
            "bin_end": 52.5,
            "bin_start": 51,
            "count": 0
           },
           {
            "bin_end": 54,
            "bin_start": 52.5,
            "count": 2
           },
           {
            "bin_end": 55.5,
            "bin_start": 54,
            "count": 0
           },
           {
            "bin_end": 57,
            "bin_start": 55.5,
            "count": 0
           },
           {
            "bin_end": 58.5,
            "bin_start": 57,
            "count": 0
           },
           {
            "bin_end": 60,
            "bin_start": 58.5,
            "count": 1
           }
          ],
          "max": "60.0",
          "min": "45.0",
          "nan_count": 0,
          "unique_count": 4
         }
        },
        {
         "dtype": "float64",
         "name": "broad jump_cm",
         "stats": {
          "histogram": [
           {
            "bin_end": 185.8,
            "bin_start": 181,
            "count": 1
           },
           {
            "bin_end": 190.6,
            "bin_start": 185.8,
            "count": 0
           },
           {
            "bin_end": 195.4,
            "bin_start": 190.6,
            "count": 0
           },
           {
            "bin_end": 200.2,
            "bin_start": 195.4,
            "count": 0
           },
           {
            "bin_end": 205,
            "bin_start": 200.2,
            "count": 0
           },
           {
            "bin_end": 209.8,
            "bin_start": 205,
            "count": 0
           },
           {
            "bin_end": 214.6,
            "bin_start": 209.8,
            "count": 0
           },
           {
            "bin_end": 219.4,
            "bin_start": 214.6,
            "count": 3
           },
           {
            "bin_end": 224.2,
            "bin_start": 219.4,
            "count": 0
           },
           {
            "bin_end": 229,
            "bin_start": 224.2,
            "count": 1
           }
          ],
          "max": "229.0",
          "min": "181.0",
          "nan_count": 0,
          "unique_count": 4
         }
        },
        {
         "dtype": "object",
         "name": "class",
         "stats": {
          "categories": [
           {
            "count": 2,
            "name": "C"
           },
           {
            "count": 2,
            "name": "B"
           },
           {
            "count": 1,
            "name": "A"
           }
          ],
          "nan_count": 0,
          "unique_count": 3
         }
        },
        {
         "dtype": "int64",
         "name": "_deepnote_index_column"
        }
       ],
       "row_count": 5,
       "rows": [
        {
         "_deepnote_index_column": "0",
         "age": "27.0",
         "body fat_%": "21.3",
         "broad jump_cm": "217.0",
         "class": "C",
         "diastolic": "80.0",
         "gender": "M",
         "gripForce": "54.9",
         "height_cm": "172.3",
         "sit and bend forward_cm": "18.4",
         "sit-ups counts": "60.0",
         "systolic": "130.0",
         "weight_kg": "75.24"
        },
        {
         "_deepnote_index_column": "1",
         "age": "25.0",
         "body fat_%": "15.7",
         "broad jump_cm": "229.0",
         "class": "A",
         "diastolic": "77.0",
         "gender": "M",
         "gripForce": "36.4",
         "height_cm": "165.0",
         "sit and bend forward_cm": "16.3",
         "sit-ups counts": "53.0",
         "systolic": "126.0",
         "weight_kg": "55.8"
        },
        {
         "_deepnote_index_column": "2",
         "age": "31.0",
         "body fat_%": "20.1",
         "broad jump_cm": "181.0",
         "class": "C",
         "diastolic": "92.0",
         "gender": "M",
         "gripForce": "44.8",
         "height_cm": "179.6",
         "sit and bend forward_cm": "12.0",
         "sit-ups counts": "49.0",
         "systolic": "152.0",
         "weight_kg": "78.0"
        },
        {
         "_deepnote_index_column": "3",
         "age": "32.0",
         "body fat_%": "18.4",
         "broad jump_cm": "219.0",
         "class": "B",
         "diastolic": "76.0",
         "gender": "M",
         "gripForce": "41.4",
         "height_cm": "174.5",
         "sit and bend forward_cm": "15.2",
         "sit-ups counts": "53.0",
         "systolic": "147.0",
         "weight_kg": "71.1"
        },
        {
         "_deepnote_index_column": "4",
         "age": "28.0",
         "body fat_%": "17.1",
         "broad jump_cm": "217.0",
         "class": "B",
         "diastolic": "70.0",
         "gender": "M",
         "gripForce": "43.5",
         "height_cm": "173.8",
         "sit and bend forward_cm": "27.1",
         "sit-ups counts": "45.0",
         "systolic": "127.0",
         "weight_kg": "67.7"
        }
       ]
      },
      "text/html": [
       "<div>\n",
       "<style scoped>\n",
       "    .dataframe tbody tr th:only-of-type {\n",
       "        vertical-align: middle;\n",
       "    }\n",
       "\n",
       "    .dataframe tbody tr th {\n",
       "        vertical-align: top;\n",
       "    }\n",
       "\n",
       "    .dataframe thead th {\n",
       "        text-align: right;\n",
       "    }\n",
       "</style>\n",
       "<table border=\"1\" class=\"dataframe\">\n",
       "  <thead>\n",
       "    <tr style=\"text-align: right;\">\n",
       "      <th></th>\n",
       "      <th>age</th>\n",
       "      <th>gender</th>\n",
       "      <th>height_cm</th>\n",
       "      <th>weight_kg</th>\n",
       "      <th>body fat_%</th>\n",
       "      <th>diastolic</th>\n",
       "      <th>systolic</th>\n",
       "      <th>gripForce</th>\n",
       "      <th>sit and bend forward_cm</th>\n",
       "      <th>sit-ups counts</th>\n",
       "      <th>broad jump_cm</th>\n",
       "      <th>class</th>\n",
       "    </tr>\n",
       "  </thead>\n",
       "  <tbody>\n",
       "    <tr>\n",
       "      <th>0</th>\n",
       "      <td>27.0</td>\n",
       "      <td>M</td>\n",
       "      <td>172.3</td>\n",
       "      <td>75.24</td>\n",
       "      <td>21.3</td>\n",
       "      <td>80.0</td>\n",
       "      <td>130.0</td>\n",
       "      <td>54.9</td>\n",
       "      <td>18.4</td>\n",
       "      <td>60.0</td>\n",
       "      <td>217.0</td>\n",
       "      <td>C</td>\n",
       "    </tr>\n",
       "    <tr>\n",
       "      <th>1</th>\n",
       "      <td>25.0</td>\n",
       "      <td>M</td>\n",
       "      <td>165.0</td>\n",
       "      <td>55.80</td>\n",
       "      <td>15.7</td>\n",
       "      <td>77.0</td>\n",
       "      <td>126.0</td>\n",
       "      <td>36.4</td>\n",
       "      <td>16.3</td>\n",
       "      <td>53.0</td>\n",
       "      <td>229.0</td>\n",
       "      <td>A</td>\n",
       "    </tr>\n",
       "    <tr>\n",
       "      <th>2</th>\n",
       "      <td>31.0</td>\n",
       "      <td>M</td>\n",
       "      <td>179.6</td>\n",
       "      <td>78.00</td>\n",
       "      <td>20.1</td>\n",
       "      <td>92.0</td>\n",
       "      <td>152.0</td>\n",
       "      <td>44.8</td>\n",
       "      <td>12.0</td>\n",
       "      <td>49.0</td>\n",
       "      <td>181.0</td>\n",
       "      <td>C</td>\n",
       "    </tr>\n",
       "    <tr>\n",
       "      <th>3</th>\n",
       "      <td>32.0</td>\n",
       "      <td>M</td>\n",
       "      <td>174.5</td>\n",
       "      <td>71.10</td>\n",
       "      <td>18.4</td>\n",
       "      <td>76.0</td>\n",
       "      <td>147.0</td>\n",
       "      <td>41.4</td>\n",
       "      <td>15.2</td>\n",
       "      <td>53.0</td>\n",
       "      <td>219.0</td>\n",
       "      <td>B</td>\n",
       "    </tr>\n",
       "    <tr>\n",
       "      <th>4</th>\n",
       "      <td>28.0</td>\n",
       "      <td>M</td>\n",
       "      <td>173.8</td>\n",
       "      <td>67.70</td>\n",
       "      <td>17.1</td>\n",
       "      <td>70.0</td>\n",
       "      <td>127.0</td>\n",
       "      <td>43.5</td>\n",
       "      <td>27.1</td>\n",
       "      <td>45.0</td>\n",
       "      <td>217.0</td>\n",
       "      <td>B</td>\n",
       "    </tr>\n",
       "  </tbody>\n",
       "</table>\n",
       "</div>"
      ],
      "text/plain": [
       "    age gender  height_cm  weight_kg  body fat_%  diastolic  systolic  \\\n",
       "0  27.0      M      172.3      75.24        21.3       80.0     130.0   \n",
       "1  25.0      M      165.0      55.80        15.7       77.0     126.0   \n",
       "2  31.0      M      179.6      78.00        20.1       92.0     152.0   \n",
       "3  32.0      M      174.5      71.10        18.4       76.0     147.0   \n",
       "4  28.0      M      173.8      67.70        17.1       70.0     127.0   \n",
       "\n",
       "   gripForce  sit and bend forward_cm  sit-ups counts  broad jump_cm class  \n",
       "0       54.9                     18.4            60.0          217.0     C  \n",
       "1       36.4                     16.3            53.0          229.0     A  \n",
       "2       44.8                     12.0            49.0          181.0     C  \n",
       "3       41.4                     15.2            53.0          219.0     B  \n",
       "4       43.5                     27.1            45.0          217.0     B  "
      ]
     },
     "execution_count": 3,
     "metadata": {},
     "output_type": "execute_result"
    }
   ],
   "source": [
    "df.head()"
   ]
  },
  {
   "cell_type": "code",
   "execution_count": 4,
   "metadata": {
    "cell_id": "626422dd80c7411fa471c89a7a578ee9",
    "deepnote_cell_type": "code",
    "deepnote_to_be_reexecuted": false,
    "execution_millis": 4,
    "execution_start": 1681836107151,
    "pycharm": {
     "name": "#%%\n"
    },
    "source_hash": "14f60b8f"
   },
   "outputs": [
    {
     "data": {
      "text/plain": [
       "(13393, 12)"
      ]
     },
     "execution_count": 4,
     "metadata": {},
     "output_type": "execute_result"
    }
   ],
   "source": [
    "df.shape"
   ]
  },
  {
   "cell_type": "code",
   "execution_count": 5,
   "metadata": {
    "cell_id": "089b891650b2457b830d42b7cea9efb0",
    "deepnote_cell_type": "code",
    "deepnote_to_be_reexecuted": false,
    "execution_millis": 58,
    "execution_start": 1681836107155,
    "pycharm": {
     "name": "#%%\n"
    },
    "source_hash": "f88152d9"
   },
   "outputs": [
    {
     "data": {
      "application/vnd.deepnote.dataframe.v3+json": {
       "column_count": 10,
       "columns": [
        {
         "dtype": "float64",
         "name": "age",
         "stats": {
          "histogram": [
           {
            "bin_end": 1351.5630755277623,
            "bin_start": 13.625639475291313,
            "count": 7
           },
           {
            "bin_end": 2689.5005115802333,
            "bin_start": 1351.5630755277623,
            "count": 0
           },
           {
            "bin_end": 4027.4379476327044,
            "bin_start": 2689.5005115802333,
            "count": 0
           },
           {
            "bin_end": 5365.375383685175,
            "bin_start": 4027.4379476327044,
            "count": 0
           },
           {
            "bin_end": 6703.312819737645,
            "bin_start": 5365.375383685175,
            "count": 0
           },
           {
            "bin_end": 8041.250255790117,
            "bin_start": 6703.312819737645,
            "count": 0
           },
           {
            "bin_end": 9379.187691842588,
            "bin_start": 8041.250255790117,
            "count": 0
           },
           {
            "bin_end": 10717.125127895059,
            "bin_start": 9379.187691842588,
            "count": 0
           },
           {
            "bin_end": 12055.06256394753,
            "bin_start": 10717.125127895059,
            "count": 0
           },
           {
            "bin_end": 13393,
            "bin_start": 12055.06256394753,
            "count": 1
           }
          ],
          "max": "13393.0",
          "min": "13.625639475291313",
          "nan_count": 0,
          "unique_count": 8
         }
        },
        {
         "dtype": "float64",
         "name": "height_cm",
         "stats": {
          "histogram": [
           {
            "bin_end": 1346.8839242955041,
            "bin_start": 8.426582550560243,
            "count": 7
           },
           {
            "bin_end": 2685.3412660404483,
            "bin_start": 1346.8839242955041,
            "count": 0
           },
           {
            "bin_end": 4023.7986077853925,
            "bin_start": 2685.3412660404483,
            "count": 0
           },
           {
            "bin_end": 5362.255949530336,
            "bin_start": 4023.7986077853925,
            "count": 0
           },
           {
            "bin_end": 6700.7132912752795,
            "bin_start": 5362.255949530336,
            "count": 0
           },
           {
            "bin_end": 8039.170633020224,
            "bin_start": 6700.7132912752795,
            "count": 0
           },
           {
            "bin_end": 9377.627974765168,
            "bin_start": 8039.170633020224,
            "count": 0
           },
           {
            "bin_end": 10716.085316510113,
            "bin_start": 9377.627974765168,
            "count": 0
           },
           {
            "bin_end": 12054.542658255057,
            "bin_start": 10716.085316510113,
            "count": 0
           },
           {
            "bin_end": 13393,
            "bin_start": 12054.542658255057,
            "count": 1
           }
          ],
          "max": "13393.0",
          "min": "8.426582550560243",
          "nan_count": 0,
          "unique_count": 8
         }
        },
        {
         "dtype": "float64",
         "name": "weight_kg",
         "stats": {
          "histogram": [
           {
            "bin_end": 1350.0546997084366,
            "bin_start": 11.94966634270741,
            "count": 7
           },
           {
            "bin_end": 2688.159733074166,
            "bin_start": 1350.0546997084366,
            "count": 0
           },
           {
            "bin_end": 4026.264766439895,
            "bin_start": 2688.159733074166,
            "count": 0
           },
           {
            "bin_end": 5364.369799805624,
            "bin_start": 4026.264766439895,
            "count": 0
           },
           {
            "bin_end": 6702.474833171354,
            "bin_start": 5364.369799805624,
            "count": 0
           },
           {
            "bin_end": 8040.579866537082,
            "bin_start": 6702.474833171354,
            "count": 0
           },
           {
            "bin_end": 9378.684899902812,
            "bin_start": 8040.579866537082,
            "count": 0
           },
           {
            "bin_end": 10716.789933268541,
            "bin_start": 9378.684899902812,
            "count": 0
           },
           {
            "bin_end": 12054.89496663427,
            "bin_start": 10716.789933268541,
            "count": 0
           },
           {
            "bin_end": 13393,
            "bin_start": 12054.89496663427,
            "count": 1
           }
          ],
          "max": "13393.0",
          "min": "11.94966634270741",
          "nan_count": 0,
          "unique_count": 8
         }
        },
        {
         "dtype": "float64",
         "name": "body fat_%",
         "stats": {
          "histogram": [
           {
            "bin_end": 1342,
            "bin_start": 3,
            "count": 7
           },
           {
            "bin_end": 2681,
            "bin_start": 1342,
            "count": 0
           },
           {
            "bin_end": 4020,
            "bin_start": 2681,
            "count": 0
           },
           {
            "bin_end": 5359,
            "bin_start": 4020,
            "count": 0
           },
           {
            "bin_end": 6698,
            "bin_start": 5359,
            "count": 0
           },
           {
            "bin_end": 8037,
            "bin_start": 6698,
            "count": 0
           },
           {
            "bin_end": 9376,
            "bin_start": 8037,
            "count": 0
           },
           {
            "bin_end": 10715,
            "bin_start": 9376,
            "count": 0
           },
           {
            "bin_end": 12054,
            "bin_start": 10715,
            "count": 0
           },
           {
            "bin_end": 13393,
            "bin_start": 12054,
            "count": 1
           }
          ],
          "max": "13393.0",
          "min": "3.0",
          "nan_count": 0,
          "unique_count": 8
         }
        },
        {
         "dtype": "float64",
         "name": "diastolic",
         "stats": {
          "histogram": [
           {
            "bin_end": 1339.3,
            "bin_start": 0,
            "count": 7
           },
           {
            "bin_end": 2678.6,
            "bin_start": 1339.3,
            "count": 0
           },
           {
            "bin_end": 4017.8999999999996,
            "bin_start": 2678.6,
            "count": 0
           },
           {
            "bin_end": 5357.2,
            "bin_start": 4017.8999999999996,
            "count": 0
           },
           {
            "bin_end": 6696.5,
            "bin_start": 5357.2,
            "count": 0
           },
           {
            "bin_end": 8035.799999999999,
            "bin_start": 6696.5,
            "count": 0
           },
           {
            "bin_end": 9375.1,
            "bin_start": 8035.799999999999,
            "count": 0
           },
           {
            "bin_end": 10714.4,
            "bin_start": 9375.1,
            "count": 0
           },
           {
            "bin_end": 12053.699999999999,
            "bin_start": 10714.4,
            "count": 0
           },
           {
            "bin_end": 13393,
            "bin_start": 12053.699999999999,
            "count": 1
           }
          ],
          "max": "13393.0",
          "min": "0.0",
          "nan_count": 0,
          "unique_count": 8
         }
        },
        {
         "dtype": "float64",
         "name": "systolic",
         "stats": {
          "histogram": [
           {
            "bin_end": 1339.3,
            "bin_start": 0,
            "count": 7
           },
           {
            "bin_end": 2678.6,
            "bin_start": 1339.3,
            "count": 0
           },
           {
            "bin_end": 4017.8999999999996,
            "bin_start": 2678.6,
            "count": 0
           },
           {
            "bin_end": 5357.2,
            "bin_start": 4017.8999999999996,
            "count": 0
           },
           {
            "bin_end": 6696.5,
            "bin_start": 5357.2,
            "count": 0
           },
           {
            "bin_end": 8035.799999999999,
            "bin_start": 6696.5,
            "count": 0
           },
           {
            "bin_end": 9375.1,
            "bin_start": 8035.799999999999,
            "count": 0
           },
           {
            "bin_end": 10714.4,
            "bin_start": 9375.1,
            "count": 0
           },
           {
            "bin_end": 12053.699999999999,
            "bin_start": 10714.4,
            "count": 0
           },
           {
            "bin_end": 13393,
            "bin_start": 12053.699999999999,
            "count": 1
           }
          ],
          "max": "13393.0",
          "min": "0.0",
          "nan_count": 0,
          "unique_count": 8
         }
        },
        {
         "dtype": "float64",
         "name": "gripForce",
         "stats": {
          "histogram": [
           {
            "bin_end": 1339.3,
            "bin_start": 0,
            "count": 7
           },
           {
            "bin_end": 2678.6,
            "bin_start": 1339.3,
            "count": 0
           },
           {
            "bin_end": 4017.8999999999996,
            "bin_start": 2678.6,
            "count": 0
           },
           {
            "bin_end": 5357.2,
            "bin_start": 4017.8999999999996,
            "count": 0
           },
           {
            "bin_end": 6696.5,
            "bin_start": 5357.2,
            "count": 0
           },
           {
            "bin_end": 8035.799999999999,
            "bin_start": 6696.5,
            "count": 0
           },
           {
            "bin_end": 9375.1,
            "bin_start": 8035.799999999999,
            "count": 0
           },
           {
            "bin_end": 10714.4,
            "bin_start": 9375.1,
            "count": 0
           },
           {
            "bin_end": 12053.699999999999,
            "bin_start": 10714.4,
            "count": 0
           },
           {
            "bin_end": 13393,
            "bin_start": 12053.699999999999,
            "count": 1
           }
          ],
          "max": "13393.0",
          "min": "0.0",
          "nan_count": 0,
          "unique_count": 8
         }
        },
        {
         "dtype": "float64",
         "name": "sit and bend forward_cm",
         "stats": {
          "histogram": [
           {
            "bin_end": 1316.8,
            "bin_start": -25,
            "count": 7
           },
           {
            "bin_end": 2658.6,
            "bin_start": 1316.8,
            "count": 0
           },
           {
            "bin_end": 4000.3999999999996,
            "bin_start": 2658.6,
            "count": 0
           },
           {
            "bin_end": 5342.2,
            "bin_start": 4000.3999999999996,
            "count": 0
           },
           {
            "bin_end": 6684,
            "bin_start": 5342.2,
            "count": 0
           },
           {
            "bin_end": 8025.799999999999,
            "bin_start": 6684,
            "count": 0
           },
           {
            "bin_end": 9367.6,
            "bin_start": 8025.799999999999,
            "count": 0
           },
           {
            "bin_end": 10709.4,
            "bin_start": 9367.6,
            "count": 0
           },
           {
            "bin_end": 12051.199999999999,
            "bin_start": 10709.4,
            "count": 0
           },
           {
            "bin_end": 13393,
            "bin_start": 12051.199999999999,
            "count": 1
           }
          ],
          "max": "13393.0",
          "min": "-25.0",
          "nan_count": 0,
          "unique_count": 8
         }
        },
        {
         "dtype": "float64",
         "name": "sit-ups counts",
         "stats": {
          "histogram": [
           {
            "bin_end": 1339.3,
            "bin_start": 0,
            "count": 7
           },
           {
            "bin_end": 2678.6,
            "bin_start": 1339.3,
            "count": 0
           },
           {
            "bin_end": 4017.8999999999996,
            "bin_start": 2678.6,
            "count": 0
           },
           {
            "bin_end": 5357.2,
            "bin_start": 4017.8999999999996,
            "count": 0
           },
           {
            "bin_end": 6696.5,
            "bin_start": 5357.2,
            "count": 0
           },
           {
            "bin_end": 8035.799999999999,
            "bin_start": 6696.5,
            "count": 0
           },
           {
            "bin_end": 9375.1,
            "bin_start": 8035.799999999999,
            "count": 0
           },
           {
            "bin_end": 10714.4,
            "bin_start": 9375.1,
            "count": 0
           },
           {
            "bin_end": 12053.699999999999,
            "bin_start": 10714.4,
            "count": 0
           },
           {
            "bin_end": 13393,
            "bin_start": 12053.699999999999,
            "count": 1
           }
          ],
          "max": "13393.0",
          "min": "0.0",
          "nan_count": 0,
          "unique_count": 8
         }
        },
        {
         "dtype": "float64",
         "name": "broad jump_cm",
         "stats": {
          "histogram": [
           {
            "bin_end": 1339.3,
            "bin_start": 0,
            "count": 7
           },
           {
            "bin_end": 2678.6,
            "bin_start": 1339.3,
            "count": 0
           },
           {
            "bin_end": 4017.8999999999996,
            "bin_start": 2678.6,
            "count": 0
           },
           {
            "bin_end": 5357.2,
            "bin_start": 4017.8999999999996,
            "count": 0
           },
           {
            "bin_end": 6696.5,
            "bin_start": 5357.2,
            "count": 0
           },
           {
            "bin_end": 8035.799999999999,
            "bin_start": 6696.5,
            "count": 0
           },
           {
            "bin_end": 9375.1,
            "bin_start": 8035.799999999999,
            "count": 0
           },
           {
            "bin_end": 10714.4,
            "bin_start": 9375.1,
            "count": 0
           },
           {
            "bin_end": 12053.699999999999,
            "bin_start": 10714.4,
            "count": 0
           },
           {
            "bin_end": 13393,
            "bin_start": 12053.699999999999,
            "count": 1
           }
          ],
          "max": "13393.0",
          "min": "0.0",
          "nan_count": 0,
          "unique_count": 8
         }
        },
        {
         "dtype": "object",
         "name": "_deepnote_index_column"
        }
       ],
       "row_count": 8,
       "rows": [
        {
         "_deepnote_index_column": "count",
         "age": "13393.0",
         "body fat_%": "13393.0",
         "broad jump_cm": "13393.0",
         "diastolic": "13393.0",
         "gripForce": "13393.0",
         "height_cm": "13393.0",
         "sit and bend forward_cm": "13393.0",
         "sit-ups counts": "13393.0",
         "systolic": "13393.0",
         "weight_kg": "13393.0"
        },
        {
         "_deepnote_index_column": "mean",
         "age": "36.77510639886508",
         "body fat_%": "23.240164950869858",
         "broad jump_cm": "190.12962741730755",
         "diastolic": "78.79684163368923",
         "gripForce": "36.96387739864108",
         "height_cm": "168.5598073620548",
         "sit and bend forward_cm": "15.20926827447174",
         "sit-ups counts": "39.77122377361308",
         "systolic": "130.23481669528857",
         "weight_kg": "67.4473157619652"
        },
        {
         "_deepnote_index_column": "std",
         "age": "13.625639475291313",
         "body fat_%": "7.256844079929906",
         "broad jump_cm": "39.86800013263679",
         "diastolic": "10.742033099909756",
         "gripForce": "10.624864027335336",
         "height_cm": "8.426582550560243",
         "sit and bend forward_cm": "8.456677009240204",
         "sit-ups counts": "14.276698326877366",
         "systolic": "14.713953521704253",
         "weight_kg": "11.94966634270741"
        },
        {
         "_deepnote_index_column": "min",
         "age": "21.0",
         "body fat_%": "3.0",
         "broad jump_cm": "0.0",
         "diastolic": "0.0",
         "gripForce": "0.0",
         "height_cm": "125.0",
         "sit and bend forward_cm": "-25.0",
         "sit-ups counts": "0.0",
         "systolic": "0.0",
         "weight_kg": "26.3"
        },
        {
         "_deepnote_index_column": "25%",
         "age": "25.0",
         "body fat_%": "18.0",
         "broad jump_cm": "162.0",
         "diastolic": "71.0",
         "gripForce": "27.5",
         "height_cm": "162.4",
         "sit and bend forward_cm": "10.9",
         "sit-ups counts": "30.0",
         "systolic": "120.0",
         "weight_kg": "58.2"
        },
        {
         "_deepnote_index_column": "50%",
         "age": "32.0",
         "body fat_%": "22.8",
         "broad jump_cm": "193.0",
         "diastolic": "79.0",
         "gripForce": "37.9",
         "height_cm": "169.2",
         "sit and bend forward_cm": "16.2",
         "sit-ups counts": "41.0",
         "systolic": "130.0",
         "weight_kg": "67.4"
        },
        {
         "_deepnote_index_column": "75%",
         "age": "48.0",
         "body fat_%": "28.0",
         "broad jump_cm": "221.0",
         "diastolic": "86.0",
         "gripForce": "45.2",
         "height_cm": "174.8",
         "sit and bend forward_cm": "20.7",
         "sit-ups counts": "50.0",
         "systolic": "141.0",
         "weight_kg": "75.3"
        },
        {
         "_deepnote_index_column": "max",
         "age": "64.0",
         "body fat_%": "78.4",
         "broad jump_cm": "303.0",
         "diastolic": "156.2",
         "gripForce": "70.5",
         "height_cm": "193.8",
         "sit and bend forward_cm": "213.0",
         "sit-ups counts": "80.0",
         "systolic": "201.0",
         "weight_kg": "138.1"
        }
       ]
      },
      "text/html": [
       "<div>\n",
       "<style scoped>\n",
       "    .dataframe tbody tr th:only-of-type {\n",
       "        vertical-align: middle;\n",
       "    }\n",
       "\n",
       "    .dataframe tbody tr th {\n",
       "        vertical-align: top;\n",
       "    }\n",
       "\n",
       "    .dataframe thead th {\n",
       "        text-align: right;\n",
       "    }\n",
       "</style>\n",
       "<table border=\"1\" class=\"dataframe\">\n",
       "  <thead>\n",
       "    <tr style=\"text-align: right;\">\n",
       "      <th></th>\n",
       "      <th>age</th>\n",
       "      <th>height_cm</th>\n",
       "      <th>weight_kg</th>\n",
       "      <th>body fat_%</th>\n",
       "      <th>diastolic</th>\n",
       "      <th>systolic</th>\n",
       "      <th>gripForce</th>\n",
       "      <th>sit and bend forward_cm</th>\n",
       "      <th>sit-ups counts</th>\n",
       "      <th>broad jump_cm</th>\n",
       "    </tr>\n",
       "  </thead>\n",
       "  <tbody>\n",
       "    <tr>\n",
       "      <th>count</th>\n",
       "      <td>13393.000000</td>\n",
       "      <td>13393.000000</td>\n",
       "      <td>13393.000000</td>\n",
       "      <td>13393.000000</td>\n",
       "      <td>13393.000000</td>\n",
       "      <td>13393.000000</td>\n",
       "      <td>13393.000000</td>\n",
       "      <td>13393.000000</td>\n",
       "      <td>13393.000000</td>\n",
       "      <td>13393.000000</td>\n",
       "    </tr>\n",
       "    <tr>\n",
       "      <th>mean</th>\n",
       "      <td>36.775106</td>\n",
       "      <td>168.559807</td>\n",
       "      <td>67.447316</td>\n",
       "      <td>23.240165</td>\n",
       "      <td>78.796842</td>\n",
       "      <td>130.234817</td>\n",
       "      <td>36.963877</td>\n",
       "      <td>15.209268</td>\n",
       "      <td>39.771224</td>\n",
       "      <td>190.129627</td>\n",
       "    </tr>\n",
       "    <tr>\n",
       "      <th>std</th>\n",
       "      <td>13.625639</td>\n",
       "      <td>8.426583</td>\n",
       "      <td>11.949666</td>\n",
       "      <td>7.256844</td>\n",
       "      <td>10.742033</td>\n",
       "      <td>14.713954</td>\n",
       "      <td>10.624864</td>\n",
       "      <td>8.456677</td>\n",
       "      <td>14.276698</td>\n",
       "      <td>39.868000</td>\n",
       "    </tr>\n",
       "    <tr>\n",
       "      <th>min</th>\n",
       "      <td>21.000000</td>\n",
       "      <td>125.000000</td>\n",
       "      <td>26.300000</td>\n",
       "      <td>3.000000</td>\n",
       "      <td>0.000000</td>\n",
       "      <td>0.000000</td>\n",
       "      <td>0.000000</td>\n",
       "      <td>-25.000000</td>\n",
       "      <td>0.000000</td>\n",
       "      <td>0.000000</td>\n",
       "    </tr>\n",
       "    <tr>\n",
       "      <th>25%</th>\n",
       "      <td>25.000000</td>\n",
       "      <td>162.400000</td>\n",
       "      <td>58.200000</td>\n",
       "      <td>18.000000</td>\n",
       "      <td>71.000000</td>\n",
       "      <td>120.000000</td>\n",
       "      <td>27.500000</td>\n",
       "      <td>10.900000</td>\n",
       "      <td>30.000000</td>\n",
       "      <td>162.000000</td>\n",
       "    </tr>\n",
       "    <tr>\n",
       "      <th>50%</th>\n",
       "      <td>32.000000</td>\n",
       "      <td>169.200000</td>\n",
       "      <td>67.400000</td>\n",
       "      <td>22.800000</td>\n",
       "      <td>79.000000</td>\n",
       "      <td>130.000000</td>\n",
       "      <td>37.900000</td>\n",
       "      <td>16.200000</td>\n",
       "      <td>41.000000</td>\n",
       "      <td>193.000000</td>\n",
       "    </tr>\n",
       "    <tr>\n",
       "      <th>75%</th>\n",
       "      <td>48.000000</td>\n",
       "      <td>174.800000</td>\n",
       "      <td>75.300000</td>\n",
       "      <td>28.000000</td>\n",
       "      <td>86.000000</td>\n",
       "      <td>141.000000</td>\n",
       "      <td>45.200000</td>\n",
       "      <td>20.700000</td>\n",
       "      <td>50.000000</td>\n",
       "      <td>221.000000</td>\n",
       "    </tr>\n",
       "    <tr>\n",
       "      <th>max</th>\n",
       "      <td>64.000000</td>\n",
       "      <td>193.800000</td>\n",
       "      <td>138.100000</td>\n",
       "      <td>78.400000</td>\n",
       "      <td>156.200000</td>\n",
       "      <td>201.000000</td>\n",
       "      <td>70.500000</td>\n",
       "      <td>213.000000</td>\n",
       "      <td>80.000000</td>\n",
       "      <td>303.000000</td>\n",
       "    </tr>\n",
       "  </tbody>\n",
       "</table>\n",
       "</div>"
      ],
      "text/plain": [
       "                age     height_cm     weight_kg    body fat_%     diastolic  \\\n",
       "count  13393.000000  13393.000000  13393.000000  13393.000000  13393.000000   \n",
       "mean      36.775106    168.559807     67.447316     23.240165     78.796842   \n",
       "std       13.625639      8.426583     11.949666      7.256844     10.742033   \n",
       "min       21.000000    125.000000     26.300000      3.000000      0.000000   \n",
       "25%       25.000000    162.400000     58.200000     18.000000     71.000000   \n",
       "50%       32.000000    169.200000     67.400000     22.800000     79.000000   \n",
       "75%       48.000000    174.800000     75.300000     28.000000     86.000000   \n",
       "max       64.000000    193.800000    138.100000     78.400000    156.200000   \n",
       "\n",
       "           systolic     gripForce  sit and bend forward_cm  sit-ups counts  \\\n",
       "count  13393.000000  13393.000000             13393.000000    13393.000000   \n",
       "mean     130.234817     36.963877                15.209268       39.771224   \n",
       "std       14.713954     10.624864                 8.456677       14.276698   \n",
       "min        0.000000      0.000000               -25.000000        0.000000   \n",
       "25%      120.000000     27.500000                10.900000       30.000000   \n",
       "50%      130.000000     37.900000                16.200000       41.000000   \n",
       "75%      141.000000     45.200000                20.700000       50.000000   \n",
       "max      201.000000     70.500000               213.000000       80.000000   \n",
       "\n",
       "       broad jump_cm  \n",
       "count   13393.000000  \n",
       "mean      190.129627  \n",
       "std        39.868000  \n",
       "min         0.000000  \n",
       "25%       162.000000  \n",
       "50%       193.000000  \n",
       "75%       221.000000  \n",
       "max       303.000000  "
      ]
     },
     "execution_count": 5,
     "metadata": {},
     "output_type": "execute_result"
    }
   ],
   "source": [
    "df.describe()"
   ]
  },
  {
   "cell_type": "code",
   "execution_count": 6,
   "metadata": {
    "cell_id": "2c1b03a351d346049a1dc6a3aa1e9704",
    "deepnote_cell_type": "code",
    "deepnote_to_be_reexecuted": false,
    "execution_millis": 9,
    "execution_start": 1681836107212,
    "pycharm": {
     "name": "#%%\n"
    },
    "source_hash": "de1e323c"
   },
   "outputs": [
    {
     "name": "stdout",
     "output_type": "stream",
     "text": [
      "<class 'pandas.core.frame.DataFrame'>\n",
      "RangeIndex: 13393 entries, 0 to 13392\n",
      "Data columns (total 12 columns):\n",
      " #   Column                   Non-Null Count  Dtype  \n",
      "---  ------                   --------------  -----  \n",
      " 0   age                      13393 non-null  float64\n",
      " 1   gender                   13393 non-null  object \n",
      " 2   height_cm                13393 non-null  float64\n",
      " 3   weight_kg                13393 non-null  float64\n",
      " 4   body fat_%               13393 non-null  float64\n",
      " 5   diastolic                13393 non-null  float64\n",
      " 6   systolic                 13393 non-null  float64\n",
      " 7   gripForce                13393 non-null  float64\n",
      " 8   sit and bend forward_cm  13393 non-null  float64\n",
      " 9   sit-ups counts           13393 non-null  float64\n",
      " 10  broad jump_cm            13393 non-null  float64\n",
      " 11  class                    13393 non-null  object \n",
      "dtypes: float64(10), object(2)\n",
      "memory usage: 1.2+ MB\n"
     ]
    }
   ],
   "source": [
    "df.info()"
   ]
  },
  {
   "cell_type": "code",
   "execution_count": 7,
   "metadata": {
    "cell_id": "d74716e42da74ac99ab2b11a25b7e97a",
    "deepnote_cell_type": "code",
    "deepnote_to_be_reexecuted": false,
    "execution_millis": 1,
    "execution_start": 1681836107223,
    "pycharm": {
     "name": "#%%\n"
    },
    "source_hash": "f3dd26da"
   },
   "outputs": [
    {
     "data": {
      "text/plain": [
       "age                        0\n",
       "gender                     0\n",
       "height_cm                  0\n",
       "weight_kg                  0\n",
       "body fat_%                 0\n",
       "diastolic                  0\n",
       "systolic                   0\n",
       "gripForce                  0\n",
       "sit and bend forward_cm    0\n",
       "sit-ups counts             0\n",
       "broad jump_cm              0\n",
       "class                      0\n",
       "dtype: int64"
      ]
     },
     "execution_count": 7,
     "metadata": {},
     "output_type": "execute_result"
    }
   ],
   "source": [
    "df.isnull().sum()"
   ]
  },
  {
   "cell_type": "code",
   "execution_count": 8,
   "metadata": {
    "cell_id": "4b9e8ea4a95047ff8f02058b4ba33896",
    "deepnote_cell_type": "code",
    "deepnote_to_be_reexecuted": false,
    "execution_millis": 11,
    "execution_start": 1681836107271,
    "pycharm": {
     "name": "#%%\n"
    },
    "source_hash": "2d9451d9"
   },
   "outputs": [
    {
     "data": {
      "application/vnd.deepnote.dataframe.v3+json": {
       "column_count": 12,
       "columns": [
        {
         "dtype": "float64",
         "name": "age",
         "stats": {
          "histogram": [
           {
            "bin_end": 24.8,
            "bin_start": 21,
            "count": 2
           },
           {
            "bin_end": 28.6,
            "bin_start": 24.8,
            "count": 1
           },
           {
            "bin_end": 32.4,
            "bin_start": 28.6,
            "count": 3
           },
           {
            "bin_end": 36.2,
            "bin_start": 32.4,
            "count": 0
           },
           {
            "bin_end": 40,
            "bin_start": 36.2,
            "count": 1
           },
           {
            "bin_end": 43.8,
            "bin_start": 40,
            "count": 2
           },
           {
            "bin_end": 47.599999999999994,
            "bin_start": 43.8,
            "count": 0
           },
           {
            "bin_end": 51.4,
            "bin_start": 47.599999999999994,
            "count": 0
           },
           {
            "bin_end": 55.199999999999996,
            "bin_start": 51.4,
            "count": 0
           },
           {
            "bin_end": 59,
            "bin_start": 55.199999999999996,
            "count": 1
           }
          ],
          "max": "59.0",
          "min": "21.0",
          "nan_count": 0,
          "unique_count": 10
         }
        },
        {
         "dtype": "object",
         "name": "gender",
         "stats": {
          "categories": [
           {
            "count": 5,
            "name": "F"
           },
           {
            "count": 5,
            "name": "M"
           }
          ],
          "nan_count": 0,
          "unique_count": 2
         }
        },
        {
         "dtype": "float64",
         "name": "height",
         "stats": {
          "histogram": [
           {
            "bin_end": 163.32999999999998,
            "bin_start": 162.1,
            "count": 2
           },
           {
            "bin_end": 164.56,
            "bin_start": 163.32999999999998,
            "count": 1
           },
           {
            "bin_end": 165.79,
            "bin_start": 164.56,
            "count": 1
           },
           {
            "bin_end": 167.02,
            "bin_start": 165.79,
            "count": 0
           },
           {
            "bin_end": 168.25,
            "bin_start": 167.02,
            "count": 2
           },
           {
            "bin_end": 169.48,
            "bin_start": 168.25,
            "count": 2
           },
           {
            "bin_end": 170.71,
            "bin_start": 169.48,
            "count": 0
           },
           {
            "bin_end": 171.94,
            "bin_start": 170.71,
            "count": 0
           },
           {
            "bin_end": 173.17000000000002,
            "bin_start": 171.94,
            "count": 1
           },
           {
            "bin_end": 174.4,
            "bin_start": 173.17000000000002,
            "count": 1
           }
          ],
          "max": "174.4",
          "min": "162.1",
          "nan_count": 0,
          "unique_count": 10
         }
        },
        {
         "dtype": "float64",
         "name": "weight",
         "stats": {
          "histogram": [
           {
            "bin_end": 55.089999999999996,
            "bin_start": 52.9,
            "count": 1
           },
           {
            "bin_end": 57.28,
            "bin_start": 55.089999999999996,
            "count": 1
           },
           {
            "bin_end": 59.47,
            "bin_start": 57.28,
            "count": 0
           },
           {
            "bin_end": 61.66,
            "bin_start": 59.47,
            "count": 0
           },
           {
            "bin_end": 63.849999999999994,
            "bin_start": 61.66,
            "count": 1
           },
           {
            "bin_end": 66.03999999999999,
            "bin_start": 63.849999999999994,
            "count": 2
           },
           {
            "bin_end": 68.23,
            "bin_start": 66.03999999999999,
            "count": 2
           },
           {
            "bin_end": 70.42,
            "bin_start": 68.23,
            "count": 1
           },
           {
            "bin_end": 72.61,
            "bin_start": 70.42,
            "count": 0
           },
           {
            "bin_end": 74.8,
            "bin_start": 72.61,
            "count": 2
           }
          ],
          "max": "74.8",
          "min": "52.9",
          "nan_count": 0,
          "unique_count": 10
         }
        },
        {
         "dtype": "float64",
         "name": "body_fat",
         "stats": {
          "histogram": [
           {
            "bin_end": 13.78,
            "bin_start": 11.7,
            "count": 2
           },
           {
            "bin_end": 15.86,
            "bin_start": 13.78,
            "count": 1
           },
           {
            "bin_end": 17.939999999999998,
            "bin_start": 15.86,
            "count": 0
           },
           {
            "bin_end": 20.02,
            "bin_start": 17.939999999999998,
            "count": 2
           },
           {
            "bin_end": 22.1,
            "bin_start": 20.02,
            "count": 1
           },
           {
            "bin_end": 24.18,
            "bin_start": 22.1,
            "count": 2
           },
           {
            "bin_end": 26.259999999999998,
            "bin_start": 24.18,
            "count": 0
           },
           {
            "bin_end": 28.34,
            "bin_start": 26.259999999999998,
            "count": 0
           },
           {
            "bin_end": 30.419999999999998,
            "bin_start": 28.34,
            "count": 0
           },
           {
            "bin_end": 32.5,
            "bin_start": 30.419999999999998,
            "count": 2
           }
          ],
          "max": "32.5",
          "min": "11.7",
          "nan_count": 0,
          "unique_count": 10
         }
        },
        {
         "dtype": "float64",
         "name": "diastolic",
         "stats": {
          "histogram": [
           {
            "bin_end": 58.9,
            "bin_start": 55,
            "count": 1
           },
           {
            "bin_end": 62.8,
            "bin_start": 58.9,
            "count": 0
           },
           {
            "bin_end": 66.7,
            "bin_start": 62.8,
            "count": 1
           },
           {
            "bin_end": 70.6,
            "bin_start": 66.7,
            "count": 1
           },
           {
            "bin_end": 74.5,
            "bin_start": 70.6,
            "count": 1
           },
           {
            "bin_end": 78.4,
            "bin_start": 74.5,
            "count": 2
           },
           {
            "bin_end": 82.3,
            "bin_start": 78.4,
            "count": 1
           },
           {
            "bin_end": 86.2,
            "bin_start": 82.3,
            "count": 1
           },
           {
            "bin_end": 90.1,
            "bin_start": 86.2,
            "count": 1
           },
           {
            "bin_end": 94,
            "bin_start": 90.1,
            "count": 1
           }
          ],
          "max": "94.0",
          "min": "55.0",
          "nan_count": 0,
          "unique_count": 9
         }
        },
        {
         "dtype": "float64",
         "name": "systolic",
         "stats": {
          "histogram": [
           {
            "bin_end": 109.9,
            "bin_start": 105,
            "count": 1
           },
           {
            "bin_end": 114.8,
            "bin_start": 109.9,
            "count": 0
           },
           {
            "bin_end": 119.7,
            "bin_start": 114.8,
            "count": 1
           },
           {
            "bin_end": 124.6,
            "bin_start": 119.7,
            "count": 2
           },
           {
            "bin_end": 129.5,
            "bin_start": 124.6,
            "count": 3
           },
           {
            "bin_end": 134.4,
            "bin_start": 129.5,
            "count": 1
           },
           {
            "bin_end": 139.3,
            "bin_start": 134.4,
            "count": 0
           },
           {
            "bin_end": 144.2,
            "bin_start": 139.3,
            "count": 0
           },
           {
            "bin_end": 149.1,
            "bin_start": 144.2,
            "count": 1
           },
           {
            "bin_end": 154,
            "bin_start": 149.1,
            "count": 1
           }
          ],
          "max": "154.0",
          "min": "105.0",
          "nan_count": 0,
          "unique_count": 10
         }
        },
        {
         "dtype": "float64",
         "name": "grip_force",
         "stats": {
          "histogram": [
           {
            "bin_end": 27.85,
            "bin_start": 25.3,
            "count": 2
           },
           {
            "bin_end": 30.4,
            "bin_start": 27.85,
            "count": 1
           },
           {
            "bin_end": 32.95,
            "bin_start": 30.4,
            "count": 2
           },
           {
            "bin_end": 35.5,
            "bin_start": 32.95,
            "count": 1
           },
           {
            "bin_end": 38.05,
            "bin_start": 35.5,
            "count": 1
           },
           {
            "bin_end": 40.6,
            "bin_start": 38.05,
            "count": 0
           },
           {
            "bin_end": 43.15,
            "bin_start": 40.6,
            "count": 1
           },
           {
            "bin_end": 45.7,
            "bin_start": 43.15,
            "count": 1
           },
           {
            "bin_end": 48.25,
            "bin_start": 45.7,
            "count": 0
           },
           {
            "bin_end": 50.8,
            "bin_start": 48.25,
            "count": 1
           }
          ],
          "max": "50.8",
          "min": "25.3",
          "nan_count": 0,
          "unique_count": 10
         }
        },
        {
         "dtype": "float64",
         "name": "bend_forward",
         "stats": {
          "histogram": [
           {
            "bin_end": 11.01,
            "bin_start": 9.1,
            "count": 2
           },
           {
            "bin_end": 12.92,
            "bin_start": 11.01,
            "count": 0
           },
           {
            "bin_end": 14.83,
            "bin_start": 12.92,
            "count": 1
           },
           {
            "bin_end": 16.740000000000002,
            "bin_start": 14.83,
            "count": 0
           },
           {
            "bin_end": 18.65,
            "bin_start": 16.740000000000002,
            "count": 2
           },
           {
            "bin_end": 20.560000000000002,
            "bin_start": 18.65,
            "count": 1
           },
           {
            "bin_end": 22.47,
            "bin_start": 20.560000000000002,
            "count": 1
           },
           {
            "bin_end": 24.380000000000003,
            "bin_start": 22.47,
            "count": 0
           },
           {
            "bin_end": 26.29,
            "bin_start": 24.380000000000003,
            "count": 1
           },
           {
            "bin_end": 28.2,
            "bin_start": 26.29,
            "count": 2
           }
          ],
          "max": "28.2",
          "min": "9.1",
          "nan_count": 0,
          "unique_count": 10
         }
        },
        {
         "dtype": "float64",
         "name": "sit_ups",
         "stats": {
          "histogram": [
           {
            "bin_end": 27.9,
            "bin_start": 24,
            "count": 1
           },
           {
            "bin_end": 31.8,
            "bin_start": 27.9,
            "count": 1
           },
           {
            "bin_end": 35.7,
            "bin_start": 31.8,
            "count": 1
           },
           {
            "bin_end": 39.6,
            "bin_start": 35.7,
            "count": 2
           },
           {
            "bin_end": 43.5,
            "bin_start": 39.6,
            "count": 1
           },
           {
            "bin_end": 47.4,
            "bin_start": 43.5,
            "count": 0
           },
           {
            "bin_end": 51.3,
            "bin_start": 47.4,
            "count": 0
           },
           {
            "bin_end": 55.2,
            "bin_start": 51.3,
            "count": 0
           },
           {
            "bin_end": 59.1,
            "bin_start": 55.2,
            "count": 3
           },
           {
            "bin_end": 63,
            "bin_start": 59.1,
            "count": 1
           }
          ],
          "max": "63.0",
          "min": "24.0",
          "nan_count": 0,
          "unique_count": 8
         }
        },
        {
         "dtype": "float64",
         "name": "broad_jump",
         "stats": {
          "histogram": [
           {
            "bin_end": 166.9,
            "bin_start": 154,
            "count": 2
           },
           {
            "bin_end": 179.8,
            "bin_start": 166.9,
            "count": 2
           },
           {
            "bin_end": 192.7,
            "bin_start": 179.8,
            "count": 1
           },
           {
            "bin_end": 205.6,
            "bin_start": 192.7,
            "count": 1
           },
           {
            "bin_end": 218.5,
            "bin_start": 205.6,
            "count": 1
           },
           {
            "bin_end": 231.4,
            "bin_start": 218.5,
            "count": 0
           },
           {
            "bin_end": 244.3,
            "bin_start": 231.4,
            "count": 2
           },
           {
            "bin_end": 257.2,
            "bin_start": 244.3,
            "count": 0
           },
           {
            "bin_end": 270.1,
            "bin_start": 257.2,
            "count": 0
           },
           {
            "bin_end": 283,
            "bin_start": 270.1,
            "count": 1
           }
          ],
          "max": "283.0",
          "min": "154.0",
          "nan_count": 0,
          "unique_count": 10
         }
        },
        {
         "dtype": "object",
         "name": "class",
         "stats": {
          "categories": [
           {
            "count": 6,
            "name": "A"
           },
           {
            "count": 2,
            "name": "C"
           },
           {
            "count": 2,
            "name": "2 others"
           }
          ],
          "nan_count": 0,
          "unique_count": 4
         }
        },
        {
         "dtype": "int64",
         "name": "_deepnote_index_column"
        }
       ],
       "row_count": 10,
       "rows": [
        {
         "_deepnote_index_column": "8254",
         "age": "40.0",
         "bend_forward": "11.0",
         "body_fat": "30.9",
         "broad_jump": "154.0",
         "class": "C",
         "diastolic": "55.0",
         "gender": "F",
         "grip_force": "29.4",
         "height": "165.4",
         "sit_ups": "24.0",
         "systolic": "105.0",
         "weight": "64.6"
        },
        {
         "_deepnote_index_column": "2619",
         "age": "38.0",
         "bend_forward": "9.1",
         "body_fat": "19.2",
         "broad_jump": "204.0",
         "class": "C",
         "diastolic": "85.0",
         "gender": "M",
         "grip_force": "31.7",
         "height": "169.0",
         "sit_ups": "35.0",
         "systolic": "129.0",
         "weight": "74.8"
        },
        {
         "_deepnote_index_column": "12526",
         "age": "21.0",
         "bend_forward": "28.2",
         "body_fat": "14.8",
         "broad_jump": "283.0",
         "class": "A",
         "diastolic": "66.0",
         "gender": "M",
         "grip_force": "43.1",
         "height": "172.1",
         "sit_ups": "56.0",
         "systolic": "123.0",
         "weight": "66.2"
        },
        {
         "_deepnote_index_column": "12834",
         "age": "31.0",
         "bend_forward": "17.3",
         "body_fat": "11.7",
         "broad_jump": "236.0",
         "class": "B",
         "diastolic": "67.0",
         "gender": "M",
         "grip_force": "34.6",
         "height": "167.4",
         "sit_ups": "63.0",
         "systolic": "126.0",
         "weight": "65.0"
        },
        {
         "_deepnote_index_column": "7121",
         "age": "30.0",
         "bend_forward": "18.6",
         "body_fat": "12.3",
         "broad_jump": "234.0",
         "class": "A",
         "diastolic": "88.0",
         "gender": "M",
         "grip_force": "45.5",
         "height": "174.4",
         "sit_ups": "56.0",
         "systolic": "145.0",
         "weight": "68.6"
        },
        {
         "_deepnote_index_column": "6790",
         "age": "28.0",
         "bend_forward": "25.5",
         "body_fat": "22.7",
         "broad_jump": "160.0",
         "class": "A",
         "diastolic": "75.0",
         "gender": "F",
         "grip_force": "31.4",
         "height": "162.1",
         "sit_ups": "41.0",
         "systolic": "130.0",
         "weight": "52.9"
        },
        {
         "_deepnote_index_column": "7237",
         "age": "29.0",
         "bend_forward": "14.5",
         "body_fat": "20.0",
         "broad_jump": "210.0",
         "class": "D",
         "diastolic": "94.0",
         "gender": "M",
         "grip_force": "50.8",
         "height": "162.2",
         "sit_ups": "36.0",
         "systolic": "154.0",
         "weight": "73.2"
        },
        {
         "_deepnote_index_column": "8825",
         "age": "22.0",
         "bend_forward": "21.5",
         "body_fat": "20.9",
         "broad_jump": "192.0",
         "class": "A",
         "diastolic": "74.0",
         "gender": "F",
         "grip_force": "27.4",
         "height": "168.3",
         "sit_ups": "56.0",
         "systolic": "117.0",
         "weight": "56.3"
        },
        {
         "_deepnote_index_column": "3685",
         "age": "42.0",
         "bend_forward": "18.8",
         "body_fat": "23.3",
         "broad_jump": "178.0",
         "class": "A",
         "diastolic": "75.0",
         "gender": "F",
         "grip_force": "36.4",
         "height": "167.9",
         "sit_ups": "31.0",
         "systolic": "127.0",
         "weight": "67.0"
        },
        {
         "_deepnote_index_column": "11359",
         "age": "59.0",
         "bend_forward": "26.4",
         "body_fat": "32.5",
         "broad_jump": "176.0",
         "class": "A",
         "diastolic": "80.0",
         "gender": "F",
         "grip_force": "25.3",
         "height": "163.6",
         "sit_ups": "37.0",
         "systolic": "121.0",
         "weight": "62.8"
        }
       ]
      },
      "text/html": [
       "<div>\n",
       "<style scoped>\n",
       "    .dataframe tbody tr th:only-of-type {\n",
       "        vertical-align: middle;\n",
       "    }\n",
       "\n",
       "    .dataframe tbody tr th {\n",
       "        vertical-align: top;\n",
       "    }\n",
       "\n",
       "    .dataframe thead th {\n",
       "        text-align: right;\n",
       "    }\n",
       "</style>\n",
       "<table border=\"1\" class=\"dataframe\">\n",
       "  <thead>\n",
       "    <tr style=\"text-align: right;\">\n",
       "      <th></th>\n",
       "      <th>age</th>\n",
       "      <th>gender</th>\n",
       "      <th>height</th>\n",
       "      <th>weight</th>\n",
       "      <th>body_fat</th>\n",
       "      <th>diastolic</th>\n",
       "      <th>systolic</th>\n",
       "      <th>grip_force</th>\n",
       "      <th>bend_forward</th>\n",
       "      <th>sit_ups</th>\n",
       "      <th>broad_jump</th>\n",
       "      <th>class</th>\n",
       "    </tr>\n",
       "  </thead>\n",
       "  <tbody>\n",
       "    <tr>\n",
       "      <th>8254</th>\n",
       "      <td>40.0</td>\n",
       "      <td>F</td>\n",
       "      <td>165.4</td>\n",
       "      <td>64.6</td>\n",
       "      <td>30.9</td>\n",
       "      <td>55.0</td>\n",
       "      <td>105.0</td>\n",
       "      <td>29.4</td>\n",
       "      <td>11.0</td>\n",
       "      <td>24.0</td>\n",
       "      <td>154.0</td>\n",
       "      <td>C</td>\n",
       "    </tr>\n",
       "    <tr>\n",
       "      <th>2619</th>\n",
       "      <td>38.0</td>\n",
       "      <td>M</td>\n",
       "      <td>169.0</td>\n",
       "      <td>74.8</td>\n",
       "      <td>19.2</td>\n",
       "      <td>85.0</td>\n",
       "      <td>129.0</td>\n",
       "      <td>31.7</td>\n",
       "      <td>9.1</td>\n",
       "      <td>35.0</td>\n",
       "      <td>204.0</td>\n",
       "      <td>C</td>\n",
       "    </tr>\n",
       "    <tr>\n",
       "      <th>12526</th>\n",
       "      <td>21.0</td>\n",
       "      <td>M</td>\n",
       "      <td>172.1</td>\n",
       "      <td>66.2</td>\n",
       "      <td>14.8</td>\n",
       "      <td>66.0</td>\n",
       "      <td>123.0</td>\n",
       "      <td>43.1</td>\n",
       "      <td>28.2</td>\n",
       "      <td>56.0</td>\n",
       "      <td>283.0</td>\n",
       "      <td>A</td>\n",
       "    </tr>\n",
       "    <tr>\n",
       "      <th>12834</th>\n",
       "      <td>31.0</td>\n",
       "      <td>M</td>\n",
       "      <td>167.4</td>\n",
       "      <td>65.0</td>\n",
       "      <td>11.7</td>\n",
       "      <td>67.0</td>\n",
       "      <td>126.0</td>\n",
       "      <td>34.6</td>\n",
       "      <td>17.3</td>\n",
       "      <td>63.0</td>\n",
       "      <td>236.0</td>\n",
       "      <td>B</td>\n",
       "    </tr>\n",
       "    <tr>\n",
       "      <th>7121</th>\n",
       "      <td>30.0</td>\n",
       "      <td>M</td>\n",
       "      <td>174.4</td>\n",
       "      <td>68.6</td>\n",
       "      <td>12.3</td>\n",
       "      <td>88.0</td>\n",
       "      <td>145.0</td>\n",
       "      <td>45.5</td>\n",
       "      <td>18.6</td>\n",
       "      <td>56.0</td>\n",
       "      <td>234.0</td>\n",
       "      <td>A</td>\n",
       "    </tr>\n",
       "    <tr>\n",
       "      <th>6790</th>\n",
       "      <td>28.0</td>\n",
       "      <td>F</td>\n",
       "      <td>162.1</td>\n",
       "      <td>52.9</td>\n",
       "      <td>22.7</td>\n",
       "      <td>75.0</td>\n",
       "      <td>130.0</td>\n",
       "      <td>31.4</td>\n",
       "      <td>25.5</td>\n",
       "      <td>41.0</td>\n",
       "      <td>160.0</td>\n",
       "      <td>A</td>\n",
       "    </tr>\n",
       "    <tr>\n",
       "      <th>7237</th>\n",
       "      <td>29.0</td>\n",
       "      <td>M</td>\n",
       "      <td>162.2</td>\n",
       "      <td>73.2</td>\n",
       "      <td>20.0</td>\n",
       "      <td>94.0</td>\n",
       "      <td>154.0</td>\n",
       "      <td>50.8</td>\n",
       "      <td>14.5</td>\n",
       "      <td>36.0</td>\n",
       "      <td>210.0</td>\n",
       "      <td>D</td>\n",
       "    </tr>\n",
       "    <tr>\n",
       "      <th>8825</th>\n",
       "      <td>22.0</td>\n",
       "      <td>F</td>\n",
       "      <td>168.3</td>\n",
       "      <td>56.3</td>\n",
       "      <td>20.9</td>\n",
       "      <td>74.0</td>\n",
       "      <td>117.0</td>\n",
       "      <td>27.4</td>\n",
       "      <td>21.5</td>\n",
       "      <td>56.0</td>\n",
       "      <td>192.0</td>\n",
       "      <td>A</td>\n",
       "    </tr>\n",
       "    <tr>\n",
       "      <th>3685</th>\n",
       "      <td>42.0</td>\n",
       "      <td>F</td>\n",
       "      <td>167.9</td>\n",
       "      <td>67.0</td>\n",
       "      <td>23.3</td>\n",
       "      <td>75.0</td>\n",
       "      <td>127.0</td>\n",
       "      <td>36.4</td>\n",
       "      <td>18.8</td>\n",
       "      <td>31.0</td>\n",
       "      <td>178.0</td>\n",
       "      <td>A</td>\n",
       "    </tr>\n",
       "    <tr>\n",
       "      <th>11359</th>\n",
       "      <td>59.0</td>\n",
       "      <td>F</td>\n",
       "      <td>163.6</td>\n",
       "      <td>62.8</td>\n",
       "      <td>32.5</td>\n",
       "      <td>80.0</td>\n",
       "      <td>121.0</td>\n",
       "      <td>25.3</td>\n",
       "      <td>26.4</td>\n",
       "      <td>37.0</td>\n",
       "      <td>176.0</td>\n",
       "      <td>A</td>\n",
       "    </tr>\n",
       "  </tbody>\n",
       "</table>\n",
       "</div>"
      ],
      "text/plain": [
       "        age gender  height  weight  body_fat  diastolic  systolic  grip_force  \\\n",
       "8254   40.0      F   165.4    64.6      30.9       55.0     105.0        29.4   \n",
       "2619   38.0      M   169.0    74.8      19.2       85.0     129.0        31.7   \n",
       "12526  21.0      M   172.1    66.2      14.8       66.0     123.0        43.1   \n",
       "12834  31.0      M   167.4    65.0      11.7       67.0     126.0        34.6   \n",
       "7121   30.0      M   174.4    68.6      12.3       88.0     145.0        45.5   \n",
       "6790   28.0      F   162.1    52.9      22.7       75.0     130.0        31.4   \n",
       "7237   29.0      M   162.2    73.2      20.0       94.0     154.0        50.8   \n",
       "8825   22.0      F   168.3    56.3      20.9       74.0     117.0        27.4   \n",
       "3685   42.0      F   167.9    67.0      23.3       75.0     127.0        36.4   \n",
       "11359  59.0      F   163.6    62.8      32.5       80.0     121.0        25.3   \n",
       "\n",
       "       bend_forward  sit_ups  broad_jump class  \n",
       "8254           11.0     24.0       154.0     C  \n",
       "2619            9.1     35.0       204.0     C  \n",
       "12526          28.2     56.0       283.0     A  \n",
       "12834          17.3     63.0       236.0     B  \n",
       "7121           18.6     56.0       234.0     A  \n",
       "6790           25.5     41.0       160.0     A  \n",
       "7237           14.5     36.0       210.0     D  \n",
       "8825           21.5     56.0       192.0     A  \n",
       "3685           18.8     31.0       178.0     A  \n",
       "11359          26.4     37.0       176.0     A  "
      ]
     },
     "execution_count": 8,
     "metadata": {},
     "output_type": "execute_result"
    }
   ],
   "source": [
    "#Rename columns\n",
    "df = df.rename(columns={\"body fat_%\":\"body_fat\", \"height_cm\":\"height\", \"weight_kg\":\"weight\", \"sit and bend forward_cm\":\"bend_forward\", \"gripForce\":\"grip_force\",\"sit-ups counts\":\"sit_ups\", \"broad jump_cm\":\"broad_jump\"})\n",
    "df.sample(10)"
   ]
  },
  {
   "cell_type": "code",
   "execution_count": 9,
   "metadata": {
    "cell_id": "0c86d947bf9a4f3d9a701d903892307c",
    "deepnote_cell_type": "code",
    "deepnote_to_be_reexecuted": false,
    "execution_millis": 47,
    "execution_start": 1681836107283,
    "pycharm": {
     "name": "#%%\n"
    },
    "source_hash": "51913fa"
   },
   "outputs": [
    {
     "data": {
      "text/plain": [
       "<AxesSubplot: xlabel='class', ylabel='Count'>"
      ]
     },
     "execution_count": 9,
     "metadata": {},
     "output_type": "execute_result"
    },
    {
     "data": {
      "image/png": "[encoded data removed]",
      "text/plain": [
       "<Figure size 640x480 with 1 Axes>"
      ]
     },
     "metadata": {
      "image/png": {
       "height": 436,
       "width": 580
      }
     },
     "output_type": "display_data"
    }
   ],
   "source": [
    "sns.histplot(x='class',data=df)"
   ]
  },
  {
   "cell_type": "code",
   "execution_count": 10,
   "metadata": {
    "cell_id": "c647fac8448c4a2bbedf59390d8cf174",
    "deepnote_cell_type": "code",
    "deepnote_to_be_reexecuted": false,
    "execution_millis": 45,
    "execution_start": 1681836107533,
    "pycharm": {
     "name": "#%%\n"
    },
    "source_hash": "6bddc476"
   },
   "outputs": [
    {
     "data": {
      "text/plain": [
       "<AxesSubplot: xlabel='gender', ylabel='Count'>"
      ]
     },
     "execution_count": 10,
     "metadata": {},
     "output_type": "execute_result"
    },
    {
     "data": {
      "image/png": "[encoded data removed]",
      "text/plain": [
       "<Figure size 640x480 with 1 Axes>"
      ]
     },
     "metadata": {
      "image/png": {
       "height": 432,
       "width": 580
      }
     },
     "output_type": "display_data"
    }
   ],
   "source": [
    "sns.histplot(x='gender',data = df)"
   ]
  },
  {
   "cell_type": "code",
   "execution_count": 11,
   "metadata": {
    "cell_id": "1dcd9fc4f4934950b81fb52a936c2dd5",
    "deepnote_cell_type": "code",
    "deepnote_to_be_reexecuted": false,
    "execution_millis": 209,
    "execution_start": 1681836107764,
    "pycharm": {
     "name": "#%%\n"
    },
    "source_hash": "60f1ce87"
   },
   "outputs": [
    {
     "data": {
      "text/plain": [
       "<AxesSubplot: xlabel='age', ylabel='Count'>"
      ]
     },
     "execution_count": 11,
     "metadata": {},
     "output_type": "execute_result"
    },
    {
     "data": {
      "image/png": "[encoded data removed]",
      "text/plain": [
       "<Figure size 640x480 with 1 Axes>"
      ]
     },
     "metadata": {
      "image/png": {
       "height": 432,
       "width": 580
      }
     },
     "output_type": "display_data"
    }
   ],
   "source": [
    "sns.histplot(x = 'age',data = df, kde=True)"
   ]
  },
  {
   "cell_type": "code",
   "execution_count": 12,
   "metadata": {
    "cell_id": "42b0125631ab4215971daa512a7fd603",
    "deepnote_cell_type": "code",
    "deepnote_to_be_reexecuted": false,
    "execution_millis": 84,
    "execution_start": 1681836108140,
    "pycharm": {
     "name": "#%%\n"
    },
    "source_hash": "c3594cb"
   },
   "outputs": [
    {
     "data": {
      "text/plain": [
       "<AxesSubplot: xlabel='height', ylabel='Count'>"
      ]
     },
     "execution_count": 12,
     "metadata": {},
     "output_type": "execute_result"
    },
    {
     "data": {
      "image/png": "[encoded data removed]",
      "text/plain": [
       "<Figure size 640x480 with 1 Axes>"
      ]
     },
     "metadata": {
      "image/png": {
       "height": 432,
       "width": 571
      }
     },
     "output_type": "display_data"
    }
   ],
   "source": [
    "sns.histplot(x = 'height',data = df)"
   ]
  },
  {
   "cell_type": "code",
   "execution_count": 13,
   "metadata": {
    "cell_id": "06d7a5f40d58476cbb48f2b659948192",
    "deepnote_cell_type": "code",
    "deepnote_to_be_reexecuted": false,
    "execution_millis": 149,
    "execution_start": 1681836108450,
    "pycharm": {
     "name": "#%%\n"
    },
    "source_hash": "7eb24bc2"
   },
   "outputs": [
    {
     "data": {
      "text/plain": [
       "<AxesSubplot: xlabel='weight', ylabel='Count'>"
      ]
     },
     "execution_count": 13,
     "metadata": {},
     "output_type": "execute_result"
    },
    {
     "data": {
      "image/png": "[encoded data removed]",
      "text/plain": [
       "<Figure size 640x480 with 1 Axes>"
      ]
     },
     "metadata": {
      "image/png": {
       "height": 432,
       "width": 571
      }
     },
     "output_type": "display_data"
    }
   ],
   "source": [
    "sns.histplot(x = 'weight',data = df)"
   ]
  },
  {
   "cell_type": "code",
   "execution_count": 14,
   "metadata": {
    "cell_id": "ff2ff9ffcb544df8880577f4a08d876f",
    "deepnote_cell_type": "code",
    "deepnote_to_be_reexecuted": false,
    "execution_millis": 8,
    "execution_start": 1681836108815,
    "pycharm": {
     "name": "#%%\n"
    },
    "source_hash": "7a7509b4"
   },
   "outputs": [
    {
     "data": {
      "application/vnd.deepnote.dataframe.v3+json": {
       "column_count": 10,
       "columns": [
        {
         "dtype": "float64",
         "name": "age",
         "stats": {
          "histogram": [
           {
            "bin_end": 36.319350092242715,
            "bin_start": 36.14916735561592,
            "count": 1
           },
           {
            "bin_end": 36.489532828869514,
            "bin_start": 36.319350092242715,
            "count": 0
           },
           {
            "bin_end": 36.65971556549631,
            "bin_start": 36.489532828869514,
            "count": 0
           },
           {
            "bin_end": 36.829898302123105,
            "bin_start": 36.65971556549631,
            "count": 0
           },
           {
            "bin_end": 37.0000810387499,
            "bin_start": 36.829898302123105,
            "count": 0
           },
           {
            "bin_end": 37.1702637753767,
            "bin_start": 37.0000810387499,
            "count": 0
           },
           {
            "bin_end": 37.340446512003496,
            "bin_start": 37.1702637753767,
            "count": 0
           },
           {
            "bin_end": 37.51062924863029,
            "bin_start": 37.340446512003496,
            "count": 0
           },
           {
            "bin_end": 37.68081198525708,
            "bin_start": 37.51062924863029,
            "count": 0
           },
           {
            "bin_end": 37.85099472188388,
            "bin_start": 37.68081198525708,
            "count": 1
           }
          ],
          "max": "37.85099472188388",
          "min": "36.14916735561592",
          "nan_count": 0,
          "unique_count": 2
         }
        },
        {
         "dtype": "float64",
         "name": "height",
         "stats": {
          "histogram": [
           {
            "bin_end": 161.76260351249707,
            "bin_start": 160.485403978887,
            "count": 1
           },
           {
            "bin_end": 163.03980304610712,
            "bin_start": 161.76260351249707,
            "count": 0
           },
           {
            "bin_end": 164.3170025797172,
            "bin_start": 163.03980304610712,
            "count": 0
           },
           {
            "bin_end": 165.59420211332727,
            "bin_start": 164.3170025797172,
            "count": 0
           },
           {
            "bin_end": 166.87140164693733,
            "bin_start": 165.59420211332727,
            "count": 0
           },
           {
            "bin_end": 168.1486011805474,
            "bin_start": 166.87140164693733,
            "count": 0
           },
           {
            "bin_end": 169.42580071415745,
            "bin_start": 168.1486011805474,
            "count": 0
           },
           {
            "bin_end": 170.70300024776753,
            "bin_start": 169.42580071415745,
            "count": 0
           },
           {
            "bin_end": 171.9801997813776,
            "bin_start": 170.70300024776753,
            "count": 0
           },
           {
            "bin_end": 173.25739931498765,
            "bin_start": 171.9801997813776,
            "count": 1
           }
          ],
          "max": "173.25739931498765",
          "min": "160.485403978887",
          "nan_count": 0,
          "unique_count": 2
         }
        },
        {
         "dtype": "float64",
         "name": "weight",
         "stats": {
          "histogram": [
           {
            "bin_end": 58.573328039489,
            "bin_start": 56.90589930978483,
            "count": 1
           },
           {
            "bin_end": 60.24075676919316,
            "bin_start": 58.573328039489,
            "count": 0
           },
           {
            "bin_end": 61.90818549889733,
            "bin_start": 60.24075676919316,
            "count": 0
           },
           {
            "bin_end": 63.575614228601495,
            "bin_start": 61.90818549889733,
            "count": 0
           },
           {
            "bin_end": 65.24304295830567,
            "bin_start": 63.575614228601495,
            "count": 0
           },
           {
            "bin_end": 66.91047168800984,
            "bin_start": 65.24304295830567,
            "count": 0
           },
           {
            "bin_end": 68.577900417714,
            "bin_start": 66.91047168800984,
            "count": 0
           },
           {
            "bin_end": 70.24532914741816,
            "bin_start": 68.577900417714,
            "count": 0
           },
           {
            "bin_end": 71.91275787712233,
            "bin_start": 70.24532914741816,
            "count": 0
           },
           {
            "bin_end": 73.5801866068265,
            "bin_start": 71.91275787712233,
            "count": 1
           }
          ],
          "max": "73.5801866068265",
          "min": "56.90589930978483",
          "nan_count": 0,
          "unique_count": 2
         }
        },
        {
         "dtype": "float64",
         "name": "body_fat",
         "stats": {
          "histogram": [
           {
            "bin_end": 21.017944299434262,
            "bin_start": 20.188150862997514,
            "count": 1
           },
           {
            "bin_end": 21.847737735871007,
            "bin_start": 21.017944299434262,
            "count": 0
           },
           {
            "bin_end": 22.677531172307752,
            "bin_start": 21.847737735871007,
            "count": 0
           },
           {
            "bin_end": 23.5073246087445,
            "bin_start": 22.677531172307752,
            "count": 0
           },
           {
            "bin_end": 24.33711804518125,
            "bin_start": 23.5073246087445,
            "count": 0
           },
           {
            "bin_end": 25.166911481617994,
            "bin_start": 24.33711804518125,
            "count": 0
           },
           {
            "bin_end": 25.99670491805474,
            "bin_start": 25.166911481617994,
            "count": 0
           },
           {
            "bin_end": 26.826498354491488,
            "bin_start": 25.99670491805474,
            "count": 0
           },
           {
            "bin_end": 27.656291790928236,
            "bin_start": 26.826498354491488,
            "count": 0
           },
           {
            "bin_end": 28.48608522736498,
            "bin_start": 27.656291790928236,
            "count": 1
           }
          ],
          "max": "28.48608522736498",
          "min": "20.188150862997514",
          "nan_count": 0,
          "unique_count": 2
         }
        },
        {
         "dtype": "float64",
         "name": "diastolic",
         "stats": {
          "histogram": [
           {
            "bin_end": 76.08731865361933,
            "bin_start": 75.57819732034105,
            "count": 1
           },
           {
            "bin_end": 76.59643998689762,
            "bin_start": 76.08731865361933,
            "count": 0
           },
           {
            "bin_end": 77.1055613201759,
            "bin_start": 76.59643998689762,
            "count": 0
           },
           {
            "bin_end": 77.61468265345418,
            "bin_start": 77.1055613201759,
            "count": 0
           },
           {
            "bin_end": 78.12380398673247,
            "bin_start": 77.61468265345418,
            "count": 0
           },
           {
            "bin_end": 78.63292532001076,
            "bin_start": 78.12380398673247,
            "count": 0
           },
           {
            "bin_end": 79.14204665328904,
            "bin_start": 78.63292532001076,
            "count": 0
           },
           {
            "bin_end": 79.65116798656732,
            "bin_start": 79.14204665328904,
            "count": 0
           },
           {
            "bin_end": 80.1602893198456,
            "bin_start": 79.65116798656732,
            "count": 0
           },
           {
            "bin_end": 80.66941065312389,
            "bin_start": 80.1602893198456,
            "count": 1
           }
          ],
          "max": "80.66941065312389",
          "min": "75.57819732034105",
          "nan_count": 0,
          "unique_count": 2
         }
        },
        {
         "dtype": "float64",
         "name": "systolic",
         "stats": {
          "histogram": [
           {
            "bin_end": 124.97476603513505,
            "bin_start": 123.98639870077142,
            "count": 1
           },
           {
            "bin_end": 125.96313336949868,
            "bin_start": 124.97476603513505,
            "count": 0
           },
           {
            "bin_end": 126.9515007038623,
            "bin_start": 125.96313336949868,
            "count": 0
           },
           {
            "bin_end": 127.93986803822592,
            "bin_start": 126.9515007038623,
            "count": 0
           },
           {
            "bin_end": 128.92823537258954,
            "bin_start": 127.93986803822592,
            "count": 0
           },
           {
            "bin_end": 129.91660270695317,
            "bin_start": 128.92823537258954,
            "count": 0
           },
           {
            "bin_end": 130.9049700413168,
            "bin_start": 129.91660270695317,
            "count": 0
           },
           {
            "bin_end": 131.89333737568043,
            "bin_start": 130.9049700413168,
            "count": 0
           },
           {
            "bin_end": 132.88170471004406,
            "bin_start": 131.89333737568043,
            "count": 0
           },
           {
            "bin_end": 133.8700720444077,
            "bin_start": 132.88170471004406,
            "count": 1
           }
          ],
          "max": "133.8700720444077",
          "min": "123.98639870077142",
          "nan_count": 0,
          "unique_count": 2
         }
        },
        {
         "dtype": "float64",
         "name": "grip_force",
         "stats": {
          "histogram": [
           {
            "bin_end": 27.581036859012823,
            "bin_start": 25.81799431587492,
            "count": 1
           },
           {
            "bin_end": 29.344079402150726,
            "bin_start": 27.581036859012823,
            "count": 0
           },
           {
            "bin_end": 31.10712194528863,
            "bin_start": 29.344079402150726,
            "count": 0
           },
           {
            "bin_end": 32.87016448842653,
            "bin_start": 31.10712194528863,
            "count": 0
           },
           {
            "bin_end": 34.63320703156444,
            "bin_start": 32.87016448842653,
            "count": 0
           },
           {
            "bin_end": 36.39624957470234,
            "bin_start": 34.63320703156444,
            "count": 0
           },
           {
            "bin_end": 38.15929211784024,
            "bin_start": 36.39624957470234,
            "count": 0
           },
           {
            "bin_end": 39.922334660978144,
            "bin_start": 38.15929211784024,
            "count": 0
           },
           {
            "bin_end": 41.68537720411605,
            "bin_start": 39.922334660978144,
            "count": 0
           },
           {
            "bin_end": 43.44841974725395,
            "bin_start": 41.68537720411605,
            "count": 1
           }
          ],
          "max": "43.44841974725395",
          "min": "25.81799431587492",
          "nan_count": 0,
          "unique_count": 2
         }
        },
        {
         "dtype": "float64",
         "name": "bend_forward",
         "stats": {
          "histogram": [
           {
            "bin_end": 13.671345099752246,
            "bin_start": 13.09707334356917,
            "count": 1
           },
           {
            "bin_end": 14.245616855935323,
            "bin_start": 13.671345099752246,
            "count": 0
           },
           {
            "bin_end": 14.8198886121184,
            "bin_start": 14.245616855935323,
            "count": 0
           },
           {
            "bin_end": 15.394160368301474,
            "bin_start": 14.8198886121184,
            "count": 0
           },
           {
            "bin_end": 15.96843212448455,
            "bin_start": 15.394160368301474,
            "count": 0
           },
           {
            "bin_end": 16.542703880667627,
            "bin_start": 15.96843212448455,
            "count": 0
           },
           {
            "bin_end": 17.116975636850704,
            "bin_start": 16.542703880667627,
            "count": 0
           },
           {
            "bin_end": 17.69124739303378,
            "bin_start": 17.116975636850704,
            "count": 0
           },
           {
            "bin_end": 18.265519149216857,
            "bin_start": 17.69124739303378,
            "count": 0
           },
           {
            "bin_end": 18.839790905399934,
            "bin_start": 18.265519149216857,
            "count": 1
           }
          ],
          "max": "18.839790905399934",
          "min": "13.09707334356917",
          "nan_count": 0,
          "unique_count": 2
         }
        },
        {
         "dtype": "float64",
         "name": "sit_ups",
         "stats": {
          "histogram": [
           {
            "bin_end": 32.29343035158206,
            "bin_start": 30.88834754364596,
            "count": 1
           },
           {
            "bin_end": 33.698513159518164,
            "bin_start": 32.29343035158206,
            "count": 0
           },
           {
            "bin_end": 35.10359596745426,
            "bin_start": 33.698513159518164,
            "count": 0
           },
           {
            "bin_end": 36.508678775390365,
            "bin_start": 35.10359596745426,
            "count": 0
           },
           {
            "bin_end": 37.91376158332646,
            "bin_start": 36.508678775390365,
            "count": 0
           },
           {
            "bin_end": 39.318844391262566,
            "bin_start": 37.91376158332646,
            "count": 0
           },
           {
            "bin_end": 40.72392719919867,
            "bin_start": 39.318844391262566,
            "count": 0
           },
           {
            "bin_end": 42.12901000713477,
            "bin_start": 40.72392719919867,
            "count": 0
           },
           {
            "bin_end": 43.53409281507086,
            "bin_start": 42.12901000713477,
            "count": 0
           },
           {
            "bin_end": 44.93917562300697,
            "bin_start": 43.53409281507086,
            "count": 1
           }
          ],
          "max": "44.93917562300697",
          "min": "30.88834754364596",
          "nan_count": 0,
          "unique_count": 2
         }
        },
        {
         "dtype": "float64",
         "name": "broad_jump",
         "stats": {
          "histogram": [
           {
            "bin_end": 159.14757524771602,
            "bin_start": 153.32602517255378,
            "count": 1
           },
           {
            "bin_end": 164.96912532287828,
            "bin_start": 159.14757524771602,
            "count": 0
           },
           {
            "bin_end": 170.79067539804052,
            "bin_start": 164.96912532287828,
            "count": 0
           },
           {
            "bin_end": 176.61222547320276,
            "bin_start": 170.79067539804052,
            "count": 0
           },
           {
            "bin_end": 182.43377554836502,
            "bin_start": 176.61222547320276,
            "count": 0
           },
           {
            "bin_end": 188.25532562352726,
            "bin_start": 182.43377554836502,
            "count": 0
           },
           {
            "bin_end": 194.0768756986895,
            "bin_start": 188.25532562352726,
            "count": 0
           },
           {
            "bin_end": 199.89842577385173,
            "bin_start": 194.0768756986895,
            "count": 0
           },
           {
            "bin_end": 205.719975849014,
            "bin_start": 199.89842577385173,
            "count": 0
           },
           {
            "bin_end": 211.54152592417623,
            "bin_start": 205.719975849014,
            "count": 1
           }
          ],
          "max": "211.54152592417623",
          "min": "153.32602517255378",
          "nan_count": 0,
          "unique_count": 2
         }
        },
        {
         "dtype": "object",
         "name": "_deepnote_index_column"
        }
       ],
       "row_count": 2,
       "rows": [
        {
         "_deepnote_index_column": "F",
         "age": "37.85099472188388",
         "bend_forward": "18.839790905399934",
         "body_fat": "28.48608522736498",
         "broad_jump": "153.32602517255378",
         "diastolic": "75.57819732034105",
         "grip_force": "25.81799431587492",
         "height": "160.485403978887",
         "sit_ups": "30.88834754364596",
         "systolic": "123.98639870077142",
         "weight": "56.90589930978483"
        },
        {
         "_deepnote_index_column": "M",
         "age": "36.14916735561592",
         "bend_forward": "13.09707334356917",
         "body_fat": "20.188150862997514",
         "broad_jump": "211.54152592417623",
         "diastolic": "80.66941065312389",
         "grip_force": "43.44841974725395",
         "height": "173.25739931498765",
         "sit_ups": "44.93917562300697",
         "systolic": "133.8700720444077",
         "weight": "73.5801866068265"
        }
       ]
      },
      "text/html": [
       "<div>\n",
       "<style scoped>\n",
       "    .dataframe tbody tr th:only-of-type {\n",
       "        vertical-align: middle;\n",
       "    }\n",
       "\n",
       "    .dataframe tbody tr th {\n",
       "        vertical-align: top;\n",
       "    }\n",
       "\n",
       "    .dataframe thead th {\n",
       "        text-align: right;\n",
       "    }\n",
       "</style>\n",
       "<table border=\"1\" class=\"dataframe\">\n",
       "  <thead>\n",
       "    <tr style=\"text-align: right;\">\n",
       "      <th></th>\n",
       "      <th>age</th>\n",
       "      <th>height</th>\n",
       "      <th>weight</th>\n",
       "      <th>body_fat</th>\n",
       "      <th>diastolic</th>\n",
       "      <th>systolic</th>\n",
       "      <th>grip_force</th>\n",
       "      <th>bend_forward</th>\n",
       "      <th>sit_ups</th>\n",
       "      <th>broad_jump</th>\n",
       "    </tr>\n",
       "    <tr>\n",
       "      <th>gender</th>\n",
       "      <th></th>\n",
       "      <th></th>\n",
       "      <th></th>\n",
       "      <th></th>\n",
       "      <th></th>\n",
       "      <th></th>\n",
       "      <th></th>\n",
       "      <th></th>\n",
       "      <th></th>\n",
       "      <th></th>\n",
       "    </tr>\n",
       "  </thead>\n",
       "  <tbody>\n",
       "    <tr>\n",
       "      <th>F</th>\n",
       "      <td>37.850995</td>\n",
       "      <td>160.485404</td>\n",
       "      <td>56.905899</td>\n",
       "      <td>28.486085</td>\n",
       "      <td>75.578197</td>\n",
       "      <td>123.986399</td>\n",
       "      <td>25.817994</td>\n",
       "      <td>18.839791</td>\n",
       "      <td>30.888348</td>\n",
       "      <td>153.326025</td>\n",
       "    </tr>\n",
       "    <tr>\n",
       "      <th>M</th>\n",
       "      <td>36.149167</td>\n",
       "      <td>173.257399</td>\n",
       "      <td>73.580187</td>\n",
       "      <td>20.188151</td>\n",
       "      <td>80.669411</td>\n",
       "      <td>133.870072</td>\n",
       "      <td>43.448420</td>\n",
       "      <td>13.097073</td>\n",
       "      <td>44.939176</td>\n",
       "      <td>211.541526</td>\n",
       "    </tr>\n",
       "  </tbody>\n",
       "</table>\n",
       "</div>"
      ],
      "text/plain": [
       "              age      height     weight   body_fat  diastolic    systolic  \\\n",
       "gender                                                                       \n",
       "F       37.850995  160.485404  56.905899  28.486085  75.578197  123.986399   \n",
       "M       36.149167  173.257399  73.580187  20.188151  80.669411  133.870072   \n",
       "\n",
       "        grip_force  bend_forward    sit_ups  broad_jump  \n",
       "gender                                                   \n",
       "F        25.817994     18.839791  30.888348  153.326025  \n",
       "M        43.448420     13.097073  44.939176  211.541526  "
      ]
     },
     "execution_count": 14,
     "metadata": {},
     "output_type": "execute_result"
    }
   ],
   "source": [
    "df.groupby(\"gender\").mean()"
   ]
  },
  {
   "cell_type": "code",
   "execution_count": 15,
   "metadata": {
    "cell_id": "42e7058bb86e45cfa1d0a76c651dc65d",
    "deepnote_cell_type": "code",
    "deepnote_to_be_reexecuted": false,
    "execution_millis": 66,
    "execution_start": 1681836108825,
    "pycharm": {
     "name": "#%%\n"
    },
    "source_hash": "b359080a"
   },
   "outputs": [
    {
     "data": {
      "text/plain": [
       "<AxesSubplot: xlabel='gender', ylabel='weight'>"
      ]
     },
     "execution_count": 15,
     "metadata": {},
     "output_type": "execute_result"
    },
    {
     "data": {
      "image/png": "[encoded data removed]",
      "text/plain": [
       "<Figure size 1000x500 with 2 Axes>"
      ]
     },
     "metadata": {
      "image/png": {
       "height": 448,
       "width": 850
      }
     },
     "output_type": "display_data"
    }
   ],
   "source": [
    "#Gender and height / weight\n",
    "plt.figure(figsize=(10,5))\n",
    "ax = plt.subplot(1,2,1)\n",
    "sns.boxplot(x=\"gender\", y=\"height\", data=df, ax=ax)\n",
    "ax = plt.subplot(1,2,2)\n",
    "sns.boxplot(x=\"gender\", y=\"weight\", data=df, ax=ax)"
   ]
  },
  {
   "cell_type": "code",
   "execution_count": 16,
   "metadata": {
    "cell_id": "19221096866b4773a5b3b7f125b25ecd",
    "deepnote_cell_type": "code",
    "deepnote_to_be_reexecuted": false,
    "execution_millis": 58,
    "execution_start": 1681836109134,
    "pycharm": {
     "name": "#%%\n"
    },
    "source_hash": "fb0f192b"
   },
   "outputs": [
    {
     "data": {
      "text/plain": [
       "<AxesSubplot: xlabel='gender', ylabel='body_fat'>"
      ]
     },
     "execution_count": 16,
     "metadata": {},
     "output_type": "execute_result"
    },
    {
     "data": {
      "image/png": "[encoded data removed]",
      "text/plain": [
       "<Figure size 1000x500 with 1 Axes>"
      ]
     },
     "metadata": {
      "image/png": {
       "height": 448,
       "width": 842
      }
     },
     "output_type": "display_data"
    }
   ],
   "source": [
    "#Gender and body fat\n",
    "plt.figure(figsize=(10,5))\n",
    "ax = plt.subplot(1,1,1)\n",
    "sns.boxplot(x=\"gender\", y=\"body_fat\", data=df, ax=ax)"
   ]
  },
  {
   "cell_type": "code",
   "execution_count": 17,
   "metadata": {
    "cell_id": "77b8308e2d214d95a2a050b4f6488d6f",
    "deepnote_cell_type": "code",
    "deepnote_to_be_reexecuted": false,
    "execution_millis": 2,
    "execution_start": 1681836109364,
    "pycharm": {
     "name": "#%%\n"
    },
    "source_hash": "90e8cdcf"
   },
   "outputs": [
    {
     "data": {
      "text/plain": [
       "<AxesSubplot: xlabel='gender', ylabel='grip_force'>"
      ]
     },
     "execution_count": 17,
     "metadata": {},
     "output_type": "execute_result"
    },
    {
     "data": {
      "image/png": "[encoded data removed]",
      "text/plain": [
       "<Figure size 1000x500 with 1 Axes>"
      ]
     },
     "metadata": {
      "image/png": {
       "height": 448,
       "width": 842
      }
     },
     "output_type": "display_data"
    }
   ],
   "source": [
    "#Gender and gripforce\n",
    "plt.figure(figsize=(10,5))\n",
    "ax = plt.subplot(1,1,1)\n",
    "sns.boxplot(x=\"gender\", y=\"grip_force\", data=df, ax=ax)"
   ]
  },
  {
   "cell_type": "code",
   "execution_count": 18,
   "metadata": {
    "cell_id": "debf5ecf202647b8bac8738485391532",
    "deepnote_cell_type": "code",
    "deepnote_to_be_reexecuted": false,
    "execution_millis": 81,
    "execution_start": 1681836109527,
    "pycharm": {
     "name": "#%%\n"
    },
    "source_hash": "58cd6ea5"
   },
   "outputs": [
    {
     "data": {
      "text/plain": [
       "<AxesSubplot: xlabel='class', ylabel='age'>"
      ]
     },
     "execution_count": 18,
     "metadata": {},
     "output_type": "execute_result"
    },
    {
     "data": {
      "image/png": "[encoded data removed]",
      "text/plain": [
       "<Figure size 1000x500 with 2 Axes>"
      ]
     },
     "metadata": {
      "image/png": {
       "height": 448,
       "width": 859
      }
     },
     "output_type": "display_data"
    }
   ],
   "source": [
    "#Class and gender\n",
    "#Class and age\n",
    "plt.figure(figsize=(10,5))\n",
    "ax = plt.subplot(1,2,1)\n",
    "sns.countplot(x=\"class\", hue=\"gender\", data=df, ax=ax)\n",
    "ax = plt.subplot(1,2,2)\n",
    "sns.boxplot(x=\"class\", y=\"age\", data=df, ax=ax)"
   ]
  },
  {
   "cell_type": "code",
   "execution_count": 19,
   "metadata": {
    "cell_id": "bff4f954b22742779fc7e82fc03662d4",
    "deepnote_cell_type": "code",
    "deepnote_to_be_reexecuted": false,
    "execution_millis": 3,
    "execution_start": 1681836109924,
    "pycharm": {
     "name": "#%%\n"
    },
    "source_hash": "c5cb52b5"
   },
   "outputs": [
    {
     "data": {
      "text/plain": [
       "class\n",
       "A    20.539159\n",
       "B    22.039981\n",
       "C    22.644564\n",
       "D    27.735432\n",
       "Name: body_fat, dtype: float64"
      ]
     },
     "execution_count": 19,
     "metadata": {},
     "output_type": "execute_result"
    }
   ],
   "source": [
    "df.groupby(\"class\")[\"body_fat\"].mean()"
   ]
  },
  {
   "cell_type": "code",
   "execution_count": 20,
   "metadata": {
    "cell_id": "72258bd6583b4ef7b58f394d36a76a07",
    "deepnote_cell_type": "code",
    "deepnote_to_be_reexecuted": false,
    "execution_millis": 3,
    "execution_start": 1681836109924,
    "pycharm": {
     "name": "#%%\n"
    },
    "source_hash": "b28d98c7"
   },
   "outputs": [
    {
     "name": "stderr",
     "output_type": "stream",
     "text": [
      "/tmp/ipykernel_192/1185934946.py:1: FutureWarning: Indexing with multiple keys (implicitly converted to a tuple of keys) will be deprecated, use a list instead.\n",
      "  df.groupby(\"class\")[\"sit_ups\", \"bend_forward\", \"broad_jump\"].mean()\n"
     ]
    },
    {
     "data": {
      "application/vnd.deepnote.dataframe.v3+json": {
       "column_count": 3,
       "columns": [
        {
         "dtype": "float64",
         "name": "sit_ups",
         "stats": {
          "histogram": [
           {
            "bin_end": 31.678030703721188,
            "bin_start": 29.881337712750078,
            "count": 1
           },
           {
            "bin_end": 33.474723694692294,
            "bin_start": 31.678030703721188,
            "count": 0
           },
           {
            "bin_end": 35.271416685663404,
            "bin_start": 33.474723694692294,
            "count": 0
           },
           {
            "bin_end": 37.06810967663451,
            "bin_start": 35.271416685663404,
            "count": 0
           },
           {
            "bin_end": 38.86480266760562,
            "bin_start": 37.06810967663451,
            "count": 1
           },
           {
            "bin_end": 40.66149565857673,
            "bin_start": 38.86480266760562,
            "count": 0
           },
           {
            "bin_end": 42.45818864954784,
            "bin_start": 40.66149565857673,
            "count": 0
           },
           {
            "bin_end": 44.25488164051895,
            "bin_start": 42.45818864954784,
            "count": 1
           },
           {
            "bin_end": 46.05157463149006,
            "bin_start": 44.25488164051895,
            "count": 0
           },
           {
            "bin_end": 47.84826762246117,
            "bin_start": 46.05157463149006,
            "count": 1
           }
          ],
          "max": "47.84826762246117",
          "min": "29.881337712750078",
          "nan_count": 0,
          "unique_count": 4
         }
        },
        {
         "dtype": "float64",
         "name": "bend_forward",
         "stats": {
          "histogram": [
           {
            "bin_end": 8.97041151917526,
            "bin_start": 7.590259779038491,
            "count": 1
           },
           {
            "bin_end": 10.350563259312029,
            "bin_start": 8.97041151917526,
            "count": 0
           },
           {
            "bin_end": 11.730714999448796,
            "bin_start": 10.350563259312029,
            "count": 0
           },
           {
            "bin_end": 13.110866739585568,
            "bin_start": 11.730714999448796,
            "count": 0
           },
           {
            "bin_end": 14.491018479722335,
            "bin_start": 13.110866739585568,
            "count": 1
           },
           {
            "bin_end": 15.871170219859103,
            "bin_start": 14.491018479722335,
            "count": 0
           },
           {
            "bin_end": 17.251321959995874,
            "bin_start": 15.871170219859103,
            "count": 0
           },
           {
            "bin_end": 18.63147370013264,
            "bin_start": 17.251321959995874,
            "count": 1
           },
           {
            "bin_end": 20.011625440269412,
            "bin_start": 18.63147370013264,
            "count": 0
           },
           {
            "bin_end": 21.39177718040618,
            "bin_start": 20.011625440269412,
            "count": 1
           }
          ],
          "max": "21.39177718040618",
          "min": "7.590259779038491",
          "nan_count": 0,
          "unique_count": 4
         }
        },
        {
         "dtype": "float64",
         "name": "broad_jump",
         "stats": {
          "histogram": [
           {
            "bin_end": 176.71316046659555,
            "bin_start": 173.82084204240073,
            "count": 1
           },
           {
            "bin_end": 179.60547889079035,
            "bin_start": 176.71316046659555,
            "count": 0
           },
           {
            "bin_end": 182.49779731498518,
            "bin_start": 179.60547889079035,
            "count": 0
           },
           {
            "bin_end": 185.39011573917998,
            "bin_start": 182.49779731498518,
            "count": 0
           },
           {
            "bin_end": 188.2824341633748,
            "bin_start": 185.39011573917998,
            "count": 0
           },
           {
            "bin_end": 191.17475258756963,
            "bin_start": 188.2824341633748,
            "count": 1
           },
           {
            "bin_end": 194.06707101176443,
            "bin_start": 191.17475258756963,
            "count": 0
           },
           {
            "bin_end": 196.95938943595925,
            "bin_start": 194.06707101176443,
            "count": 1
           },
           {
            "bin_end": 199.85170786015405,
            "bin_start": 196.95938943595925,
            "count": 0
           },
           {
            "bin_end": 202.74402628434888,
            "bin_start": 199.85170786015405,
            "count": 1
           }
          ],
          "max": "202.74402628434888",
          "min": "173.82084204240073",
          "nan_count": 0,
          "unique_count": 4
         }
        },
        {
         "dtype": "object",
         "name": "_deepnote_index_column"
        }
       ],
       "row_count": 4,
       "rows": [
        {
         "_deepnote_index_column": "A",
         "bend_forward": "21.39177718040618",
         "broad_jump": "202.74402628434888",
         "sit_ups": "47.84826762246117"
        },
        {
         "_deepnote_index_column": "B",
         "bend_forward": "17.46758589781895",
         "broad_jump": "195.33256647744247",
         "sit_ups": "42.63919928293994"
        },
        {
         "_deepnote_index_column": "C",
         "bend_forward": "14.3906449686474",
         "broad_jump": "188.6279486413855",
         "sit_ups": "38.72021498954912"
        },
        {
         "_deepnote_index_column": "D",
         "bend_forward": "7.590259779038491",
         "broad_jump": "173.82084204240073",
         "sit_ups": "29.881337712750078"
        }
       ]
      },
      "text/html": [
       "<div>\n",
       "<style scoped>\n",
       "    .dataframe tbody tr th:only-of-type {\n",
       "        vertical-align: middle;\n",
       "    }\n",
       "\n",
       "    .dataframe tbody tr th {\n",
       "        vertical-align: top;\n",
       "    }\n",
       "\n",
       "    .dataframe thead th {\n",
       "        text-align: right;\n",
       "    }\n",
       "</style>\n",
       "<table border=\"1\" class=\"dataframe\">\n",
       "  <thead>\n",
       "    <tr style=\"text-align: right;\">\n",
       "      <th></th>\n",
       "      <th>sit_ups</th>\n",
       "      <th>bend_forward</th>\n",
       "      <th>broad_jump</th>\n",
       "    </tr>\n",
       "    <tr>\n",
       "      <th>class</th>\n",
       "      <th></th>\n",
       "      <th></th>\n",
       "      <th></th>\n",
       "    </tr>\n",
       "  </thead>\n",
       "  <tbody>\n",
       "    <tr>\n",
       "      <th>A</th>\n",
       "      <td>47.848268</td>\n",
       "      <td>21.391777</td>\n",
       "      <td>202.744026</td>\n",
       "    </tr>\n",
       "    <tr>\n",
       "      <th>B</th>\n",
       "      <td>42.639199</td>\n",
       "      <td>17.467586</td>\n",
       "      <td>195.332566</td>\n",
       "    </tr>\n",
       "    <tr>\n",
       "      <th>C</th>\n",
       "      <td>38.720215</td>\n",
       "      <td>14.390645</td>\n",
       "      <td>188.627949</td>\n",
       "    </tr>\n",
       "    <tr>\n",
       "      <th>D</th>\n",
       "      <td>29.881338</td>\n",
       "      <td>7.590260</td>\n",
       "      <td>173.820842</td>\n",
       "    </tr>\n",
       "  </tbody>\n",
       "</table>\n",
       "</div>"
      ],
      "text/plain": [
       "         sit_ups  bend_forward  broad_jump\n",
       "class                                     \n",
       "A      47.848268     21.391777  202.744026\n",
       "B      42.639199     17.467586  195.332566\n",
       "C      38.720215     14.390645  188.627949\n",
       "D      29.881338      7.590260  173.820842"
      ]
     },
     "execution_count": 20,
     "metadata": {},
     "output_type": "execute_result"
    }
   ],
   "source": [
    "df.groupby(\"class\")[\"sit_ups\", \"bend_forward\", \"broad_jump\"].mean()"
   ]
  },
  {
   "cell_type": "code",
   "execution_count": 21,
   "metadata": {
    "cell_id": "a9dc70ae717f42f4b830d2bd3c92dd79",
    "deepnote_cell_type": "code",
    "deepnote_to_be_reexecuted": false,
    "execution_millis": 337,
    "execution_start": 1681836109928,
    "pycharm": {
     "name": "#%%\n"
    },
    "source_hash": "acf64240"
   },
   "outputs": [
    {
     "data": {
      "text/plain": [
       "<AxesSubplot: >"
      ]
     },
     "execution_count": 21,
     "metadata": {},
     "output_type": "execute_result"
    },
    {
     "data": {
      "image/png": "[encoded data removed]",
      "text/plain": [
       "<Figure size 1500x1500 with 2 Axes>"
      ]
     },
     "metadata": {
      "image/png": {
       "height": 1204,
       "width": 1133
      }
     },
     "output_type": "display_data"
    }
   ],
   "source": [
    "#correlation check\n",
    "plt.figure(figsize=(15,15))\n",
    "sns.heatmap(df.corr(),annot = True)"
   ]
  },
  {
   "cell_type": "code",
   "execution_count": 22,
   "metadata": {
    "cell_id": "fe9c0ada56f04d23a53fb7c2eeeaec30",
    "deepnote_cell_type": "code",
    "deepnote_to_be_reexecuted": false,
    "execution_millis": 419,
    "execution_start": 1681836110563,
    "pycharm": {
     "name": "#%%\n"
    },
    "source_hash": "718b03a6"
   },
   "outputs": [
    {
     "name": "stderr",
     "output_type": "stream",
     "text": [
      "/tmp/ipykernel_192/4109794370.py:4: MatplotlibDeprecationWarning: The seaborn styles shipped by Matplotlib are deprecated since 3.6, as they no longer correspond to the styles shipped by seaborn. However, they will remain available as 'seaborn-v0_8-<style>'. Alternatively, directly use the seaborn API instead.\n",
      "  plt.style.use('seaborn-dark')\n"
     ]
    },
    {
     "data": {
      "image/png": "[encoded data removed]",
      "text/plain": [
       "<Figure size 2000x1000 with 1 Axes>"
      ]
     },
     "metadata": {
      "image/png": {
       "height": 890,
       "width": 1601
      }
     },
     "output_type": "display_data"
    }
   ],
   "source": [
    "#Search for Outliers\n",
    "plt.close()\n",
    "plt.figure(figsize=(20,10))\n",
    "plt.style.use('seaborn-dark')\n",
    "sns.boxenplot(data = df )\n",
    "plt.xticks(rotation=90)\n",
    "plt.show()\n"
   ]
  },
  {
   "cell_type": "markdown",
   "metadata": {
    "cell_id": "837d71f8887e4b91b48a36be8dbbf819",
    "deepnote_cell_type": "text-cell-h3",
    "formattedRanges": [],
    "pycharm": {
     "name": "#%% md\n"
    }
   },
   "source": [
    "### Feature engineering"
   ]
  },
  {
   "cell_type": "code",
   "execution_count": 23,
   "metadata": {
    "cell_id": "07d584a44dde4b9cb85d9eee57c1af56",
    "deepnote_cell_type": "code",
    "deepnote_to_be_reexecuted": false,
    "execution_millis": 7,
    "execution_start": 1681836110982,
    "pycharm": {
     "name": "#%%\n"
    },
    "source_hash": "eb0e5952"
   },
   "outputs": [
    {
     "name": "stderr",
     "output_type": "stream",
     "text": [
      "/shared-libs/python3.9/py/lib/python3.9/site-packages/sklearn/utils/deprecation.py:87: FutureWarning: Function get_feature_names is deprecated; get_feature_names is deprecated in 1.0 and will be removed in 1.2. Please use get_feature_names_out instead.\n",
      "  warnings.warn(msg, category=FutureWarning)\n"
     ]
    }
   ],
   "source": [
    "#one hot encode of gender variable\n",
    "sex = df[['gender']]\n",
    "oneHot = OneHotEncoder(sparse=False)\n",
    "sex = pd.DataFrame(oneHot.fit_transform(sex), columns=oneHot.get_feature_names())\n",
    "df.drop(columns=['gender'], axis=1, inplace=True)\n",
    "df = pd.concat([sex, df], axis=1)\n"
   ]
  },
  {
   "cell_type": "code",
   "execution_count": 24,
   "metadata": {
    "cell_id": "4bfdb182fab34572a59e05c0264782da",
    "deepnote_cell_type": "code",
    "deepnote_to_be_reexecuted": false,
    "execution_millis": 5,
    "execution_start": 1681836110991,
    "pycharm": {
     "name": "#%%\n"
    },
    "source_hash": "eaf9f16e"
   },
   "outputs": [],
   "source": [
    "df = df.rename(columns={'x0_F': 'F'})\n",
    "df = df.rename(columns={'x0_M': 'M'})"
   ]
  },
  {
   "cell_type": "code",
   "execution_count": 25,
   "metadata": {
    "cell_id": "e4782ded812d4687899c5ea41ef59777",
    "deepnote_cell_type": "code",
    "deepnote_to_be_reexecuted": false,
    "execution_millis": 7,
    "execution_start": 1681836110997,
    "pycharm": {
     "name": "#%%\n"
    },
    "source_hash": "4fbcc60d"
   },
   "outputs": [],
   "source": [
    "#Label conversion\n",
    "classes = {'A': 0, 'B': 1, 'C': 2, 'D': 3}\n",
    "df['class'] = df['class'].replace(classes)"
   ]
  },
  {
   "cell_type": "code",
   "execution_count": 26,
   "metadata": {
    "cell_id": "8c56801689854463831cb62a20bab29a",
    "deepnote_cell_type": "code",
    "deepnote_to_be_reexecuted": false,
    "execution_millis": 3,
    "execution_start": 1681836111005,
    "pycharm": {
     "name": "#%%\n"
    },
    "source_hash": "674bc44d"
   },
   "outputs": [],
   "source": [
    "#conversion in meters\n",
    "df['height_m'] = df.height/100"
   ]
  },
  {
   "cell_type": "code",
   "execution_count": 27,
   "metadata": {
    "cell_id": "6b1eab74c293494fa0e39a52db70e6f1",
    "deepnote_cell_type": "code",
    "deepnote_to_be_reexecuted": false,
    "execution_millis": 7,
    "execution_start": 1681836111010,
    "pycharm": {
     "name": "#%%\n"
    },
    "source_hash": "4b72bf9a"
   },
   "outputs": [],
   "source": [
    "#creation of a new feature\n",
    "df['BMI'] = df.weight /df.height_m**2\n",
    "df.drop('height',axis = 1,inplace = True)\n",
    "df.drop('height_m',axis = 1,inplace = True)\n",
    "df.drop('weight',axis = 1,inplace = True)"
   ]
  },
  {
   "cell_type": "code",
   "execution_count": 28,
   "metadata": {
    "cell_id": "efbd5623689d4447bc9804b7a73d42b9",
    "deepnote_cell_type": "code",
    "deepnote_table_loading": false,
    "deepnote_table_state": {
     "filters": [],
     "pageIndex": 0,
     "pageSize": 10,
     "sortBy": []
    },
    "deepnote_to_be_reexecuted": false,
    "execution_millis": 8913,
    "execution_start": 1681836111177,
    "pycharm": {
     "name": "#%%\n"
    },
    "source_hash": "c6a29d71"
   },
   "outputs": [
    {
     "data": {
      "application/vnd.deepnote.dataframe.v3+json": {
       "column_count": 11,
       "columns": [
        {
         "dtype": "float64",
         "name": "F",
         "stats": {
          "histogram": [
           {
            "bin_end": -0.4,
            "bin_start": -0.5,
            "count": 0
           },
           {
            "bin_end": -0.3,
            "bin_start": -0.4,
            "count": 0
           },
           {
            "bin_end": -0.19999999999999996,
            "bin_start": -0.3,
            "count": 0
           },
           {
            "bin_end": -0.09999999999999998,
            "bin_start": -0.19999999999999996,
            "count": 0
           },
           {
            "bin_end": 0,
            "bin_start": -0.09999999999999998,
            "count": 0
           },
           {
            "bin_end": 0.10000000000000009,
            "bin_start": 0,
            "count": 5
           },
           {
            "bin_end": 0.20000000000000007,
            "bin_start": 0.10000000000000009,
            "count": 0
           },
           {
            "bin_end": 0.30000000000000004,
            "bin_start": 0.20000000000000007,
            "count": 0
           },
           {
            "bin_end": 0.4,
            "bin_start": 0.30000000000000004,
            "count": 0
           },
           {
            "bin_end": 0.5,
            "bin_start": 0.4,
            "count": 0
           }
          ],
          "max": "0.0",
          "min": "0.0",
          "nan_count": 0,
          "unique_count": 1
         }
        },
        {
         "dtype": "float64",
         "name": "M",
         "stats": {
          "histogram": [
           {
            "bin_end": 0.6,
            "bin_start": 0.5,
            "count": 0
           },
           {
            "bin_end": 0.7,
            "bin_start": 0.6,
            "count": 0
           },
           {
            "bin_end": 0.8,
            "bin_start": 0.7,
            "count": 0
           },
           {
            "bin_end": 0.9,
            "bin_start": 0.8,
            "count": 0
           },
           {
            "bin_end": 1,
            "bin_start": 0.9,
            "count": 0
           },
           {
            "bin_end": 1.1,
            "bin_start": 1,
            "count": 5
           },
           {
            "bin_end": 1.2000000000000002,
            "bin_start": 1.1,
            "count": 0
           },
           {
            "bin_end": 1.3,
            "bin_start": 1.2000000000000002,
            "count": 0
           },
           {
            "bin_end": 1.4,
            "bin_start": 1.3,
            "count": 0
           },
           {
            "bin_end": 1.5,
            "bin_start": 1.4,
            "count": 0
           }
          ],
          "max": "1.0",
          "min": "1.0",
          "nan_count": 0,
          "unique_count": 1
         }
        },
        {
         "dtype": "float64",
         "name": "age",
         "stats": {
          "histogram": [
           {
            "bin_end": 25.7,
            "bin_start": 25,
            "count": 1
           },
           {
            "bin_end": 26.4,
            "bin_start": 25.7,
            "count": 0
           },
           {
            "bin_end": 27.1,
            "bin_start": 26.4,
            "count": 1
           },
           {
            "bin_end": 27.8,
            "bin_start": 27.1,
            "count": 0
           },
           {
            "bin_end": 28.5,
            "bin_start": 27.8,
            "count": 1
           },
           {
            "bin_end": 29.2,
            "bin_start": 28.5,
            "count": 0
           },
           {
            "bin_end": 29.9,
            "bin_start": 29.2,
            "count": 0
           },
           {
            "bin_end": 30.6,
            "bin_start": 29.9,
            "count": 0
           },
           {
            "bin_end": 31.3,
            "bin_start": 30.6,
            "count": 1
           },
           {
            "bin_end": 32,
            "bin_start": 31.3,
            "count": 1
           }
          ],
          "max": "32.0",
          "min": "25.0",
          "nan_count": 0,
          "unique_count": 5
         }
        },
        {
         "dtype": "float64",
         "name": "body_fat",
         "stats": {
          "histogram": [
           {
            "bin_end": 16.259999999999998,
            "bin_start": 15.7,
            "count": 1
           },
           {
            "bin_end": 16.82,
            "bin_start": 16.259999999999998,
            "count": 0
           },
           {
            "bin_end": 17.38,
            "bin_start": 16.82,
            "count": 1
           },
           {
            "bin_end": 17.94,
            "bin_start": 17.38,
            "count": 0
           },
           {
            "bin_end": 18.5,
            "bin_start": 17.94,
            "count": 1
           },
           {
            "bin_end": 19.060000000000002,
            "bin_start": 18.5,
            "count": 0
           },
           {
            "bin_end": 19.62,
            "bin_start": 19.060000000000002,
            "count": 0
           },
           {
            "bin_end": 20.18,
            "bin_start": 19.62,
            "count": 1
           },
           {
            "bin_end": 20.740000000000002,
            "bin_start": 20.18,
            "count": 0
           },
           {
            "bin_end": 21.3,
            "bin_start": 20.740000000000002,
            "count": 1
           }
          ],
          "max": "21.3",
          "min": "15.7",
          "nan_count": 0,
          "unique_count": 5
         }
        },
        {
         "dtype": "float64",
         "name": "diastolic",
         "stats": {
          "histogram": [
           {
            "bin_end": 72.2,
            "bin_start": 70,
            "count": 1
           },
           {
            "bin_end": 74.4,
            "bin_start": 72.2,
            "count": 0
           },
           {
            "bin_end": 76.6,
            "bin_start": 74.4,
            "count": 1
           },
           {
            "bin_end": 78.8,
            "bin_start": 76.6,
            "count": 1
           },
           {
            "bin_end": 81,
            "bin_start": 78.8,
            "count": 1
           },
           {
            "bin_end": 83.2,
            "bin_start": 81,
            "count": 0
           },
           {
            "bin_end": 85.4,
            "bin_start": 83.2,
            "count": 0
           },
           {
            "bin_end": 87.6,
            "bin_start": 85.4,
            "count": 0
           },
           {
            "bin_end": 89.8,
            "bin_start": 87.6,
            "count": 0
           },
           {
            "bin_end": 92,
            "bin_start": 89.8,
            "count": 1
           }
          ],
          "max": "92.0",
          "min": "70.0",
          "nan_count": 0,
          "unique_count": 5
         }
        },
        {
         "dtype": "float64",
         "name": "systolic",
         "stats": {
          "histogram": [
           {
            "bin_end": 128.6,
            "bin_start": 126,
            "count": 2
           },
           {
            "bin_end": 131.2,
            "bin_start": 128.6,
            "count": 1
           },
           {
            "bin_end": 133.8,
            "bin_start": 131.2,
            "count": 0
           },
           {
            "bin_end": 136.4,
            "bin_start": 133.8,
            "count": 0
           },
           {
            "bin_end": 139,
            "bin_start": 136.4,
            "count": 0
           },
           {
            "bin_end": 141.6,
            "bin_start": 139,
            "count": 0
           },
           {
            "bin_end": 144.2,
            "bin_start": 141.6,
            "count": 0
           },
           {
            "bin_end": 146.8,
            "bin_start": 144.2,
            "count": 0
           },
           {
            "bin_end": 149.4,
            "bin_start": 146.8,
            "count": 1
           },
           {
            "bin_end": 152,
            "bin_start": 149.4,
            "count": 1
           }
          ],
          "max": "152.0",
          "min": "126.0",
          "nan_count": 0,
          "unique_count": 5
         }
        },
        {
         "dtype": "float64",
         "name": "grip_force",
         "stats": {
          "histogram": [
           {
            "bin_end": 38.25,
            "bin_start": 36.4,
            "count": 1
           },
           {
            "bin_end": 40.1,
            "bin_start": 38.25,
            "count": 0
           },
           {
            "bin_end": 41.95,
            "bin_start": 40.1,
            "count": 1
           },
           {
            "bin_end": 43.8,
            "bin_start": 41.95,
            "count": 1
           },
           {
            "bin_end": 45.65,
            "bin_start": 43.8,
            "count": 1
           },
           {
            "bin_end": 47.5,
            "bin_start": 45.65,
            "count": 0
           },
           {
            "bin_end": 49.35,
            "bin_start": 47.5,
            "count": 0
           },
           {
            "bin_end": 51.2,
            "bin_start": 49.35,
            "count": 0
           },
           {
            "bin_end": 53.05,
            "bin_start": 51.2,
            "count": 0
           },
           {
            "bin_end": 54.9,
            "bin_start": 53.05,
            "count": 1
           }
          ],
          "max": "54.9",
          "min": "36.4",
          "nan_count": 0,
          "unique_count": 5
         }
        },
        {
         "dtype": "float64",
         "name": "bend_forward",
         "stats": {
          "histogram": [
           {
            "bin_end": 13.51,
            "bin_start": 12,
            "count": 1
           },
           {
            "bin_end": 15.02,
            "bin_start": 13.51,
            "count": 0
           },
           {
            "bin_end": 16.53,
            "bin_start": 15.02,
            "count": 2
           },
           {
            "bin_end": 18.04,
            "bin_start": 16.53,
            "count": 0
           },
           {
            "bin_end": 19.55,
            "bin_start": 18.04,
            "count": 1
           },
           {
            "bin_end": 21.060000000000002,
            "bin_start": 19.55,
            "count": 0
           },
           {
            "bin_end": 22.57,
            "bin_start": 21.060000000000002,
            "count": 0
           },
           {
            "bin_end": 24.080000000000002,
            "bin_start": 22.57,
            "count": 0
           },
           {
            "bin_end": 25.590000000000003,
            "bin_start": 24.080000000000002,
            "count": 0
           },
           {
            "bin_end": 27.1,
            "bin_start": 25.590000000000003,
            "count": 1
           }
          ],
          "max": "27.1",
          "min": "12.0",
          "nan_count": 0,
          "unique_count": 5
         }
        },
        {
         "dtype": "float64",
         "name": "sit_ups",
         "stats": {
          "histogram": [
           {
            "bin_end": 46.5,
            "bin_start": 45,
            "count": 1
           },
           {
            "bin_end": 48,
            "bin_start": 46.5,
            "count": 0
           },
           {
            "bin_end": 49.5,
            "bin_start": 48,
            "count": 1
           },
           {
            "bin_end": 51,
            "bin_start": 49.5,
            "count": 0
           },
           {
            "bin_end": 52.5,
            "bin_start": 51,
            "count": 0
           },
           {
            "bin_end": 54,
            "bin_start": 52.5,
            "count": 2
           },
           {
            "bin_end": 55.5,
            "bin_start": 54,
            "count": 0
           },
           {
            "bin_end": 57,
            "bin_start": 55.5,
            "count": 0
           },
           {
            "bin_end": 58.5,
            "bin_start": 57,
            "count": 0
           },
           {
            "bin_end": 60,
            "bin_start": 58.5,
            "count": 1
           }
          ],
          "max": "60.0",
          "min": "45.0",
          "nan_count": 0,
          "unique_count": 4
         }
        },
        {
         "dtype": "float64",
         "name": "broad_jump",
         "stats": {
          "histogram": [
           {
            "bin_end": 185.8,
            "bin_start": 181,
            "count": 1
           },
           {
            "bin_end": 190.6,
            "bin_start": 185.8,
            "count": 0
           },
           {
            "bin_end": 195.4,
            "bin_start": 190.6,
            "count": 0
           },
           {
            "bin_end": 200.2,
            "bin_start": 195.4,
            "count": 0
           },
           {
            "bin_end": 205,
            "bin_start": 200.2,
            "count": 0
           },
           {
            "bin_end": 209.8,
            "bin_start": 205,
            "count": 0
           },
           {
            "bin_end": 214.6,
            "bin_start": 209.8,
            "count": 0
           },
           {
            "bin_end": 219.4,
            "bin_start": 214.6,
            "count": 3
           },
           {
            "bin_end": 224.2,
            "bin_start": 219.4,
            "count": 0
           },
           {
            "bin_end": 229,
            "bin_start": 224.2,
            "count": 1
           }
          ],
          "max": "229.0",
          "min": "181.0",
          "nan_count": 0,
          "unique_count": 4
         }
        },
        {
         "dtype": "float64",
         "name": "BMI",
         "stats": {
          "histogram": [
           {
            "bin_end": 20.98069891940762,
            "bin_start": 20.495867768595044,
            "count": 1
           },
           {
            "bin_end": 21.46553007022019,
            "bin_start": 20.98069891940762,
            "count": 0
           },
           {
            "bin_end": 21.950361221032765,
            "bin_start": 21.46553007022019,
            "count": 0
           },
           {
            "bin_end": 22.435192371845336,
            "bin_start": 21.950361221032765,
            "count": 1
           },
           {
            "bin_end": 22.92002352265791,
            "bin_start": 22.435192371845336,
            "count": 0
           },
           {
            "bin_end": 23.40485467347048,
            "bin_start": 22.92002352265791,
            "count": 1
           },
           {
            "bin_end": 23.889685824283056,
            "bin_start": 23.40485467347048,
            "count": 0
           },
           {
            "bin_end": 24.37451697509563,
            "bin_start": 23.889685824283056,
            "count": 1
           },
           {
            "bin_end": 24.859348125908202,
            "bin_start": 24.37451697509563,
            "count": 0
           },
           {
            "bin_end": 25.344179276720777,
            "bin_start": 24.859348125908202,
            "count": 1
           }
          ],
          "max": "25.344179276720777",
          "min": "20.495867768595044",
          "nan_count": 0,
          "unique_count": 5
         }
        },
        {
         "dtype": "int64",
         "name": "_deepnote_index_column"
        }
       ],
       "row_count": 5,
       "rows": [
        {
         "BMI": "25.344179276720777",
         "F": "0.0",
         "M": "1.0",
         "_deepnote_index_column": "0",
         "age": "27.0",
         "bend_forward": "18.4",
         "body_fat": "21.3",
         "broad_jump": "217.0",
         "diastolic": "80.0",
         "grip_force": "54.9",
         "sit_ups": "60.0",
         "systolic": "130.0"
        },
        {
         "BMI": "20.495867768595044",
         "F": "0.0",
         "M": "1.0",
         "_deepnote_index_column": "1",
         "age": "25.0",
         "bend_forward": "16.3",
         "body_fat": "15.7",
         "broad_jump": "229.0",
         "diastolic": "77.0",
         "grip_force": "36.4",
         "sit_ups": "53.0",
         "systolic": "126.0"
        },
        {
         "BMI": "24.181427671489725",
         "F": "0.0",
         "M": "1.0",
         "_deepnote_index_column": "2",
         "age": "31.0",
         "bend_forward": "12.0",
         "body_fat": "20.1",
         "broad_jump": "181.0",
         "diastolic": "92.0",
         "grip_force": "44.8",
         "sit_ups": "49.0",
         "systolic": "152.0"
        },
        {
         "BMI": "23.349561990459843",
         "F": "0.0",
         "M": "1.0",
         "_deepnote_index_column": "3",
         "age": "32.0",
         "bend_forward": "15.2",
         "body_fat": "18.4",
         "broad_jump": "219.0",
         "diastolic": "76.0",
         "grip_force": "41.4",
         "sit_ups": "53.0",
         "systolic": "147.0"
        },
        {
         "BMI": "22.41243920170665",
         "F": "0.0",
         "M": "1.0",
         "_deepnote_index_column": "4",
         "age": "28.0",
         "bend_forward": "27.1",
         "body_fat": "17.1",
         "broad_jump": "217.0",
         "diastolic": "70.0",
         "grip_force": "43.5",
         "sit_ups": "45.0",
         "systolic": "127.0"
        }
       ]
      },
      "text/html": [
       "<div>\n",
       "<style scoped>\n",
       "    .dataframe tbody tr th:only-of-type {\n",
       "        vertical-align: middle;\n",
       "    }\n",
       "\n",
       "    .dataframe tbody tr th {\n",
       "        vertical-align: top;\n",
       "    }\n",
       "\n",
       "    .dataframe thead th {\n",
       "        text-align: right;\n",
       "    }\n",
       "</style>\n",
       "<table border=\"1\" class=\"dataframe\">\n",
       "  <thead>\n",
       "    <tr style=\"text-align: right;\">\n",
       "      <th></th>\n",
       "      <th>F</th>\n",
       "      <th>M</th>\n",
       "      <th>age</th>\n",
       "      <th>body_fat</th>\n",
       "      <th>diastolic</th>\n",
       "      <th>systolic</th>\n",
       "      <th>grip_force</th>\n",
       "      <th>bend_forward</th>\n",
       "      <th>sit_ups</th>\n",
       "      <th>broad_jump</th>\n",
       "      <th>BMI</th>\n",
       "    </tr>\n",
       "  </thead>\n",
       "  <tbody>\n",
       "    <tr>\n",
       "      <th>0</th>\n",
       "      <td>0.0</td>\n",
       "      <td>1.0</td>\n",
       "      <td>27.0</td>\n",
       "      <td>21.3</td>\n",
       "      <td>80.0</td>\n",
       "      <td>130.0</td>\n",
       "      <td>54.9</td>\n",
       "      <td>18.4</td>\n",
       "      <td>60.0</td>\n",
       "      <td>217.0</td>\n",
       "      <td>25.344179</td>\n",
       "    </tr>\n",
       "    <tr>\n",
       "      <th>1</th>\n",
       "      <td>0.0</td>\n",
       "      <td>1.0</td>\n",
       "      <td>25.0</td>\n",
       "      <td>15.7</td>\n",
       "      <td>77.0</td>\n",
       "      <td>126.0</td>\n",
       "      <td>36.4</td>\n",
       "      <td>16.3</td>\n",
       "      <td>53.0</td>\n",
       "      <td>229.0</td>\n",
       "      <td>20.495868</td>\n",
       "    </tr>\n",
       "    <tr>\n",
       "      <th>2</th>\n",
       "      <td>0.0</td>\n",
       "      <td>1.0</td>\n",
       "      <td>31.0</td>\n",
       "      <td>20.1</td>\n",
       "      <td>92.0</td>\n",
       "      <td>152.0</td>\n",
       "      <td>44.8</td>\n",
       "      <td>12.0</td>\n",
       "      <td>49.0</td>\n",
       "      <td>181.0</td>\n",
       "      <td>24.181428</td>\n",
       "    </tr>\n",
       "    <tr>\n",
       "      <th>3</th>\n",
       "      <td>0.0</td>\n",
       "      <td>1.0</td>\n",
       "      <td>32.0</td>\n",
       "      <td>18.4</td>\n",
       "      <td>76.0</td>\n",
       "      <td>147.0</td>\n",
       "      <td>41.4</td>\n",
       "      <td>15.2</td>\n",
       "      <td>53.0</td>\n",
       "      <td>219.0</td>\n",
       "      <td>23.349562</td>\n",
       "    </tr>\n",
       "    <tr>\n",
       "      <th>4</th>\n",
       "      <td>0.0</td>\n",
       "      <td>1.0</td>\n",
       "      <td>28.0</td>\n",
       "      <td>17.1</td>\n",
       "      <td>70.0</td>\n",
       "      <td>127.0</td>\n",
       "      <td>43.5</td>\n",
       "      <td>27.1</td>\n",
       "      <td>45.0</td>\n",
       "      <td>217.0</td>\n",
       "      <td>22.412439</td>\n",
       "    </tr>\n",
       "  </tbody>\n",
       "</table>\n",
       "</div>"
      ],
      "text/plain": [
       "     F    M   age  body_fat  diastolic  systolic  grip_force  bend_forward  \\\n",
       "0  0.0  1.0  27.0      21.3       80.0     130.0        54.9          18.4   \n",
       "1  0.0  1.0  25.0      15.7       77.0     126.0        36.4          16.3   \n",
       "2  0.0  1.0  31.0      20.1       92.0     152.0        44.8          12.0   \n",
       "3  0.0  1.0  32.0      18.4       76.0     147.0        41.4          15.2   \n",
       "4  0.0  1.0  28.0      17.1       70.0     127.0        43.5          27.1   \n",
       "\n",
       "   sit_ups  broad_jump        BMI  \n",
       "0     60.0       217.0  25.344179  \n",
       "1     53.0       229.0  20.495868  \n",
       "2     49.0       181.0  24.181428  \n",
       "3     53.0       219.0  23.349562  \n",
       "4     45.0       217.0  22.412439  "
      ]
     },
     "execution_count": 28,
     "metadata": {},
     "output_type": "execute_result"
    }
   ],
   "source": [
    "#Label\n",
    "y = df[['class']]\n",
    "x = df.drop(['class'],axis = 1)\n",
    "x.head()"
   ]
  },
  {
   "cell_type": "markdown",
   "metadata": {
    "cell_id": "8cbd599c51c34c1d8514b2b9691535f7",
    "deepnote_cell_type": "text-cell-h3",
    "formattedRanges": [],
    "pycharm": {
     "name": "#%% md\n"
    }
   },
   "source": [
    "### Standardization"
   ]
  },
  {
   "cell_type": "code",
   "execution_count": 30,
   "metadata": {
    "cell_id": "437aad18f39140fcb84f3ece588265be",
    "deepnote_cell_type": "code",
    "deepnote_to_be_reexecuted": false,
    "execution_millis": 8907,
    "execution_start": 1681836111177,
    "pycharm": {
     "name": "#%%\n"
    },
    "source_hash": "9a4231d0"
   },
   "outputs": [],
   "source": [
    "x_train,x_test,y_train,y_test = train_test_split(x,y,test_size = 0.02,random_state = 5)"
   ]
  },
  {
   "cell_type": "code",
   "execution_count": 29,
   "metadata": {
    "cell_id": "c6dfba51d71a4e6cb913dab39faebeb4",
    "deepnote_cell_type": "code",
    "deepnote_to_be_reexecuted": false,
    "execution_millis": 8907,
    "execution_start": 1681836111177,
    "pycharm": {
     "name": "#%%\n"
    },
    "source_hash": "946d4a79"
   },
   "outputs": [],
   "source": [
    "#Standardization\n",
    "sc = StandardScaler()\n",
    "sc.fit(x_train)\n",
    "x_train = sc.transform(x_train)\n",
    "x_test = sc.transform(x_test)"
   ]
  },
  {
   "cell_type": "markdown",
   "metadata": {
    "cell_id": "39fc4bb0de354c55a262f14112f5ad2f",
    "deepnote_cell_type": "text-cell-h3",
    "formattedRanges": [],
    "pycharm": {
     "name": "#%% md\n"
    }
   },
   "source": [
    "### Training"
   ]
  },
  {
   "cell_type": "code",
   "execution_count": 31,
   "metadata": {
    "cell_id": "0736e2e95b14488c9474aa44ca54b758",
    "deepnote_cell_type": "code",
    "deepnote_to_be_reexecuted": false,
    "execution_millis": 3827,
    "execution_start": 1681836111177,
    "pycharm": {
     "name": "#%%\n"
    },
    "source_hash": "1134661"
   },
   "outputs": [
    {
     "data": {
      "text/html": [
       "<style>#sk-container-id-1 {color: black;background-color: white;}#sk-container-id-1 pre{padding: 0;}#sk-container-id-1 div.sk-toggleable {background-color: white;}#sk-container-id-1 label.sk-toggleable__label {cursor: pointer;display: block;width: 100%;margin-bottom: 0;padding: 0.3em;box-sizing: border-box;text-align: center;}#sk-container-id-1 label.sk-toggleable__label-arrow:before {content: \"▸\";float: left;margin-right: 0.25em;color: #696969;}#sk-container-id-1 label.sk-toggleable__label-arrow:hover:before {color: black;}#sk-container-id-1 div.sk-estimator:hover label.sk-toggleable__label-arrow:before {color: black;}#sk-container-id-1 div.sk-toggleable__content {max-height: 0;max-width: 0;overflow: hidden;text-align: left;background-color: #f0f8ff;}#sk-container-id-1 div.sk-toggleable__content pre {margin: 0.2em;color: black;border-radius: 0.25em;background-color: #f0f8ff;}#sk-container-id-1 input.sk-toggleable__control:checked~div.sk-toggleable__content {max-height: 200px;max-width: 100%;overflow: auto;}#sk-container-id-1 input.sk-toggleable__control:checked~label.sk-toggleable__label-arrow:before {content: \"▾\";}#sk-container-id-1 div.sk-estimator input.sk-toggleable__control:checked~label.sk-toggleable__label {background-color: #d4ebff;}#sk-container-id-1 div.sk-label input.sk-toggleable__control:checked~label.sk-toggleable__label {background-color: #d4ebff;}#sk-container-id-1 input.sk-hidden--visually {border: 0;clip: rect(1px 1px 1px 1px);clip: rect(1px, 1px, 1px, 1px);height: 1px;margin: -1px;overflow: hidden;padding: 0;position: absolute;width: 1px;}#sk-container-id-1 div.sk-estimator {font-family: monospace;background-color: #f0f8ff;border: 1px dotted black;border-radius: 0.25em;box-sizing: border-box;margin-bottom: 0.5em;}#sk-container-id-1 div.sk-estimator:hover {background-color: #d4ebff;}#sk-container-id-1 div.sk-parallel-item::after {content: \"\";width: 100%;border-bottom: 1px solid gray;flex-grow: 1;}#sk-container-id-1 div.sk-label:hover label.sk-toggleable__label {background-color: #d4ebff;}#sk-container-id-1 div.sk-serial::before {content: \"\";position: absolute;border-left: 1px solid gray;box-sizing: border-box;top: 0;bottom: 0;left: 50%;z-index: 0;}#sk-container-id-1 div.sk-serial {display: flex;flex-direction: column;align-items: center;background-color: white;padding-right: 0.2em;padding-left: 0.2em;position: relative;}#sk-container-id-1 div.sk-item {position: relative;z-index: 1;}#sk-container-id-1 div.sk-parallel {display: flex;align-items: stretch;justify-content: center;background-color: white;position: relative;}#sk-container-id-1 div.sk-item::before, #sk-container-id-1 div.sk-parallel-item::before {content: \"\";position: absolute;border-left: 1px solid gray;box-sizing: border-box;top: 0;bottom: 0;left: 50%;z-index: -1;}#sk-container-id-1 div.sk-parallel-item {display: flex;flex-direction: column;z-index: 1;position: relative;background-color: white;}#sk-container-id-1 div.sk-parallel-item:first-child::after {align-self: flex-end;width: 50%;}#sk-container-id-1 div.sk-parallel-item:last-child::after {align-self: flex-start;width: 50%;}#sk-container-id-1 div.sk-parallel-item:only-child::after {width: 0;}#sk-container-id-1 div.sk-dashed-wrapped {border: 1px dashed gray;margin: 0 0.4em 0.5em 0.4em;box-sizing: border-box;padding-bottom: 0.4em;background-color: white;}#sk-container-id-1 div.sk-label label {font-family: monospace;font-weight: bold;display: inline-block;line-height: 1.2em;}#sk-container-id-1 div.sk-label-container {text-align: center;}#sk-container-id-1 div.sk-container {/* jupyter's `normalize.less` sets `[hidden] { display: none; }` but bootstrap.min.css set `[hidden] { display: none !important; }` so we also need the `!important` here to be able to override the default hidden behavior on the sphinx rendered scikit-learn.org. See: https://github.com/scikit-learn/scikit-learn/issues/21755 */display: inline-block !important;position: relative;}#sk-container-id-1 div.sk-text-repr-fallback {display: none;}</style><div id=\"sk-container-id-1\" class=\"sk-top-container\"><div class=\"sk-text-repr-fallback\"><pre>XGBClassifier(base_score=None, booster=None, callbacks=None,\n",
       "              colsample_bylevel=None, colsample_bynode=None,\n",
       "              colsample_bytree=None, early_stopping_rounds=None,\n",
       "              enable_categorical=False, eval_metric=None, feature_types=None,\n",
       "              gamma=None, gpu_id=None, grow_policy=None, importance_type=None,\n",
       "              interaction_constraints=None, learning_rate=None, max_bin=None,\n",
       "              max_cat_threshold=None, max_cat_to_onehot=None,\n",
       "              max_delta_step=None, max_depth=None, max_leaves=None,\n",
       "              min_child_weight=None, missing=nan, monotone_constraints=None,\n",
       "              n_estimators=100, n_jobs=None, num_parallel_tree=None,\n",
       "              objective=&#x27;multi:softprob&#x27;, predictor=None, ...)</pre><b>In a Jupyter environment, please rerun this cell to show the HTML representation or trust the notebook. <br />On GitHub, the HTML representation is unable to render, please try loading this page with nbviewer.org.</b></div><div class=\"sk-container\" hidden><div class=\"sk-item\"><div class=\"sk-estimator sk-toggleable\"><input class=\"sk-toggleable__control sk-hidden--visually\" id=\"sk-estimator-id-1\" type=\"checkbox\" checked><label for=\"sk-estimator-id-1\" class=\"sk-toggleable__label sk-toggleable__label-arrow\">XGBClassifier</label><div class=\"sk-toggleable__content\"><pre>XGBClassifier(base_score=None, booster=None, callbacks=None,\n",
       "              colsample_bylevel=None, colsample_bynode=None,\n",
       "              colsample_bytree=None, early_stopping_rounds=None,\n",
       "              enable_categorical=False, eval_metric=None, feature_types=None,\n",
       "              gamma=None, gpu_id=None, grow_policy=None, importance_type=None,\n",
       "              interaction_constraints=None, learning_rate=None, max_bin=None,\n",
       "              max_cat_threshold=None, max_cat_to_onehot=None,\n",
       "              max_delta_step=None, max_depth=None, max_leaves=None,\n",
       "              min_child_weight=None, missing=nan, monotone_constraints=None,\n",
       "              n_estimators=100, n_jobs=None, num_parallel_tree=None,\n",
       "              objective=&#x27;multi:softprob&#x27;, predictor=None, ...)</pre></div></div></div></div></div>"
      ],
      "text/plain": [
       "XGBClassifier(base_score=None, booster=None, callbacks=None,\n",
       "              colsample_bylevel=None, colsample_bynode=None,\n",
       "              colsample_bytree=None, early_stopping_rounds=None,\n",
       "              enable_categorical=False, eval_metric=None, feature_types=None,\n",
       "              gamma=None, gpu_id=None, grow_policy=None, importance_type=None,\n",
       "              interaction_constraints=None, learning_rate=None, max_bin=None,\n",
       "              max_cat_threshold=None, max_cat_to_onehot=None,\n",
       "              max_delta_step=None, max_depth=None, max_leaves=None,\n",
       "              min_child_weight=None, missing=nan, monotone_constraints=None,\n",
       "              n_estimators=100, n_jobs=None, num_parallel_tree=None,\n",
       "              objective='multi:softprob', predictor=None, ...)"
      ]
     },
     "execution_count": 31,
     "metadata": {},
     "output_type": "execute_result"
    }
   ],
   "source": [
    "classifier = XGBClassifier()\n",
    "classifier.fit(x_train,y_train)"
   ]
  },
  {
   "cell_type": "code",
   "execution_count": 32,
   "metadata": {
    "cell_id": "9bf6260091b648a2956a4283cafa262f",
    "deepnote_cell_type": "code",
    "deepnote_to_be_reexecuted": false,
    "execution_millis": 5,
    "execution_start": 1681836115007,
    "pycharm": {
     "name": "#%%\n"
    },
    "source_hash": "30b4ad1a"
   },
   "outputs": [],
   "source": [
    "#Model selection\n",
    "#param_grid = {\n",
    "#    'max_depth': [3, 4, 5],\n",
    "#    'learning_rate': [0.1, 0.01, 0.001],\n",
    "#    'n_estimators': [50, 100, 200]\n",
    "#}\n",
    "\n",
    "# Definizione della strategia di cross-validation\n",
    "#cv = 5\n",
    "\n",
    "# Definizione del GridSearchCV\n",
    "#grid_search = GridSearchCV(classifier, param_grid, cv=cv, scoring='neg_mean_squared_error')\n",
    "\n",
    "# Fit del GridSearchCV sul dataset\n",
    "#grid_search.fit(x_train,y_train)\n",
    "\n",
    "#print(\"Best parameter:\", grid_search.best_params_)\n",
    "#print(\"Best score:\", grid_search.best_score_)"
   ]
  },
  {
   "cell_type": "markdown",
   "metadata": {
    "cell_id": "1bc4eb14731f4f7b8ad58bc8f2799c67",
    "deepnote_cell_type": "text-cell-h3",
    "formattedRanges": [],
    "pycharm": {
     "name": "#%% md\n"
    }
   },
   "source": [
    "### Test "
   ]
  },
  {
   "cell_type": "code",
   "execution_count": 33,
   "metadata": {
    "cell_id": "d574ec89c3a348f9a05bf9eb31048f93",
    "deepnote_cell_type": "code",
    "deepnote_to_be_reexecuted": false,
    "execution_millis": 5,
    "execution_start": 1681836115012,
    "pycharm": {
     "name": "#%%\n"
    },
    "source_hash": "c3c50a33"
   },
   "outputs": [],
   "source": [
    "predict = classifier.predict(x_test)"
   ]
  },
  {
   "cell_type": "code",
   "execution_count": 34,
   "metadata": {
    "cell_id": "690290043d454b449c17377a37985778",
    "deepnote_cell_type": "code",
    "deepnote_to_be_reexecuted": false,
    "execution_millis": 115,
    "execution_start": 1681836115019,
    "pycharm": {
     "name": "#%%\n"
    },
    "source_hash": "9363551b"
   },
   "outputs": [
    {
     "data": {
      "text/plain": [
       "<AxesSubplot: >"
      ]
     },
     "execution_count": 34,
     "metadata": {},
     "output_type": "execute_result"
    },
    {
     "data": {
      "image/png": "[encoded data removed]",
      "text/plain": [
       "<Figure size 640x480 with 2 Axes>"
      ]
     },
     "metadata": {
      "image/png": {
       "height": 408,
       "width": 501
      }
     },
     "output_type": "display_data"
    }
   ],
   "source": [
    "sns.heatmap(confusion_matrix(y_test,predict),annot=True)"
   ]
  },
  {
   "cell_type": "code",
   "execution_count": 35,
   "metadata": {
    "cell_id": "fd974da3af084878b0a21b75bd104241",
    "deepnote_cell_type": "code",
    "deepnote_to_be_reexecuted": false,
    "execution_millis": 4,
    "execution_start": 1681836115270,
    "pycharm": {
     "name": "#%%\n"
    },
    "source_hash": "5b593178"
   },
   "outputs": [
    {
     "data": {
      "text/plain": [
       "0.75"
      ]
     },
     "execution_count": 35,
     "metadata": {},
     "output_type": "execute_result"
    }
   ],
   "source": [
    "accuracy_score(y_test,predict)"
   ]
  },
  {
   "cell_type": "markdown",
   "metadata": {
    "cell_id": "945c7a0ced9c4d7fb4effd983c41470f",
    "deepnote_cell_type": "text-cell-h3",
    "formattedRanges": [],
    "pycharm": {
     "name": "#%% md\n"
    }
   },
   "source": [
    "### Training on the entire dataset"
   ]
  },
  {
   "cell_type": "code",
   "execution_count": 36,
   "metadata": {
    "cell_id": "5eeac2a90c504e23881e5a680f3218ad",
    "deepnote_cell_type": "code",
    "deepnote_to_be_reexecuted": false,
    "execution_millis": 3912,
    "execution_start": 1681836115275,
    "pycharm": {
     "name": "#%%\n"
    },
    "source_hash": "e3ecc425"
   },
   "outputs": [
    {
     "data": {
      "text/html": [
       "<style>#sk-container-id-2 {color: black;background-color: white;}#sk-container-id-2 pre{padding: 0;}#sk-container-id-2 div.sk-toggleable {background-color: white;}#sk-container-id-2 label.sk-toggleable__label {cursor: pointer;display: block;width: 100%;margin-bottom: 0;padding: 0.3em;box-sizing: border-box;text-align: center;}#sk-container-id-2 label.sk-toggleable__label-arrow:before {content: \"▸\";float: left;margin-right: 0.25em;color: #696969;}#sk-container-id-2 label.sk-toggleable__label-arrow:hover:before {color: black;}#sk-container-id-2 div.sk-estimator:hover label.sk-toggleable__label-arrow:before {color: black;}#sk-container-id-2 div.sk-toggleable__content {max-height: 0;max-width: 0;overflow: hidden;text-align: left;background-color: #f0f8ff;}#sk-container-id-2 div.sk-toggleable__content pre {margin: 0.2em;color: black;border-radius: 0.25em;background-color: #f0f8ff;}#sk-container-id-2 input.sk-toggleable__control:checked~div.sk-toggleable__content {max-height: 200px;max-width: 100%;overflow: auto;}#sk-container-id-2 input.sk-toggleable__control:checked~label.sk-toggleable__label-arrow:before {content: \"▾\";}#sk-container-id-2 div.sk-estimator input.sk-toggleable__control:checked~label.sk-toggleable__label {background-color: #d4ebff;}#sk-container-id-2 div.sk-label input.sk-toggleable__control:checked~label.sk-toggleable__label {background-color: #d4ebff;}#sk-container-id-2 input.sk-hidden--visually {border: 0;clip: rect(1px 1px 1px 1px);clip: rect(1px, 1px, 1px, 1px);height: 1px;margin: -1px;overflow: hidden;padding: 0;position: absolute;width: 1px;}#sk-container-id-2 div.sk-estimator {font-family: monospace;background-color: #f0f8ff;border: 1px dotted black;border-radius: 0.25em;box-sizing: border-box;margin-bottom: 0.5em;}#sk-container-id-2 div.sk-estimator:hover {background-color: #d4ebff;}#sk-container-id-2 div.sk-parallel-item::after {content: \"\";width: 100%;border-bottom: 1px solid gray;flex-grow: 1;}#sk-container-id-2 div.sk-label:hover label.sk-toggleable__label {background-color: #d4ebff;}#sk-container-id-2 div.sk-serial::before {content: \"\";position: absolute;border-left: 1px solid gray;box-sizing: border-box;top: 0;bottom: 0;left: 50%;z-index: 0;}#sk-container-id-2 div.sk-serial {display: flex;flex-direction: column;align-items: center;background-color: white;padding-right: 0.2em;padding-left: 0.2em;position: relative;}#sk-container-id-2 div.sk-item {position: relative;z-index: 1;}#sk-container-id-2 div.sk-parallel {display: flex;align-items: stretch;justify-content: center;background-color: white;position: relative;}#sk-container-id-2 div.sk-item::before, #sk-container-id-2 div.sk-parallel-item::before {content: \"\";position: absolute;border-left: 1px solid gray;box-sizing: border-box;top: 0;bottom: 0;left: 50%;z-index: -1;}#sk-container-id-2 div.sk-parallel-item {display: flex;flex-direction: column;z-index: 1;position: relative;background-color: white;}#sk-container-id-2 div.sk-parallel-item:first-child::after {align-self: flex-end;width: 50%;}#sk-container-id-2 div.sk-parallel-item:last-child::after {align-self: flex-start;width: 50%;}#sk-container-id-2 div.sk-parallel-item:only-child::after {width: 0;}#sk-container-id-2 div.sk-dashed-wrapped {border: 1px dashed gray;margin: 0 0.4em 0.5em 0.4em;box-sizing: border-box;padding-bottom: 0.4em;background-color: white;}#sk-container-id-2 div.sk-label label {font-family: monospace;font-weight: bold;display: inline-block;line-height: 1.2em;}#sk-container-id-2 div.sk-label-container {text-align: center;}#sk-container-id-2 div.sk-container {/* jupyter's `normalize.less` sets `[hidden] { display: none; }` but bootstrap.min.css set `[hidden] { display: none !important; }` so we also need the `!important` here to be able to override the default hidden behavior on the sphinx rendered scikit-learn.org. See: https://github.com/scikit-learn/scikit-learn/issues/21755 */display: inline-block !important;position: relative;}#sk-container-id-2 div.sk-text-repr-fallback {display: none;}</style><div id=\"sk-container-id-2\" class=\"sk-top-container\"><div class=\"sk-text-repr-fallback\"><pre>XGBClassifier(base_score=None, booster=None, callbacks=None,\n",
       "              colsample_bylevel=None, colsample_bynode=None,\n",
       "              colsample_bytree=None, early_stopping_rounds=None,\n",
       "              enable_categorical=False, eval_metric=None, feature_types=None,\n",
       "              gamma=None, gpu_id=None, grow_policy=None, importance_type=None,\n",
       "              interaction_constraints=None, learning_rate=None, max_bin=None,\n",
       "              max_cat_threshold=None, max_cat_to_onehot=None,\n",
       "              max_delta_step=None, max_depth=None, max_leaves=None,\n",
       "              min_child_weight=None, missing=nan, monotone_constraints=None,\n",
       "              n_estimators=100, n_jobs=None, num_parallel_tree=None,\n",
       "              objective=&#x27;multi:softprob&#x27;, predictor=None, ...)</pre><b>In a Jupyter environment, please rerun this cell to show the HTML representation or trust the notebook. <br />On GitHub, the HTML representation is unable to render, please try loading this page with nbviewer.org.</b></div><div class=\"sk-container\" hidden><div class=\"sk-item\"><div class=\"sk-estimator sk-toggleable\"><input class=\"sk-toggleable__control sk-hidden--visually\" id=\"sk-estimator-id-2\" type=\"checkbox\" checked><label for=\"sk-estimator-id-2\" class=\"sk-toggleable__label sk-toggleable__label-arrow\">XGBClassifier</label><div class=\"sk-toggleable__content\"><pre>XGBClassifier(base_score=None, booster=None, callbacks=None,\n",
       "              colsample_bylevel=None, colsample_bynode=None,\n",
       "              colsample_bytree=None, early_stopping_rounds=None,\n",
       "              enable_categorical=False, eval_metric=None, feature_types=None,\n",
       "              gamma=None, gpu_id=None, grow_policy=None, importance_type=None,\n",
       "              interaction_constraints=None, learning_rate=None, max_bin=None,\n",
       "              max_cat_threshold=None, max_cat_to_onehot=None,\n",
       "              max_delta_step=None, max_depth=None, max_leaves=None,\n",
       "              min_child_weight=None, missing=nan, monotone_constraints=None,\n",
       "              n_estimators=100, n_jobs=None, num_parallel_tree=None,\n",
       "              objective=&#x27;multi:softprob&#x27;, predictor=None, ...)</pre></div></div></div></div></div>"
      ],
      "text/plain": [
       "XGBClassifier(base_score=None, booster=None, callbacks=None,\n",
       "              colsample_bylevel=None, colsample_bynode=None,\n",
       "              colsample_bytree=None, early_stopping_rounds=None,\n",
       "              enable_categorical=False, eval_metric=None, feature_types=None,\n",
       "              gamma=None, gpu_id=None, grow_policy=None, importance_type=None,\n",
       "              interaction_constraints=None, learning_rate=None, max_bin=None,\n",
       "              max_cat_threshold=None, max_cat_to_onehot=None,\n",
       "              max_delta_step=None, max_depth=None, max_leaves=None,\n",
       "              min_child_weight=None, missing=nan, monotone_constraints=None,\n",
       "              n_estimators=100, n_jobs=None, num_parallel_tree=None,\n",
       "              objective='multi:softprob', predictor=None, ...)"
      ]
     },
     "execution_count": 36,
     "metadata": {},
     "output_type": "execute_result"
    }
   ],
   "source": [
    "classifier.fit(x,y)"
   ]
  },
  {
   "cell_type": "markdown",
   "metadata": {
    "cell_id": "4ff00a8c6fd34c28bb007f1a54173c19",
    "deepnote_cell_type": "text-cell-h3",
    "formattedRanges": [],
    "pycharm": {
     "name": "#%% md\n"
    }
   },
   "source": [
    "### Model export"
   ]
  },
  {
   "cell_type": "code",
   "execution_count": 38,
   "metadata": {
    "cell_id": "08138b48da19416c933f2b974ae6a219",
    "deepnote_cell_type": "code",
    "deepnote_to_be_reexecuted": false,
    "execution_millis": 65,
    "execution_start": 1681836163062,
    "pycharm": {
     "name": "#%%\n"
    },
    "source_hash": "dd872b20"
   },
   "outputs": [],
   "source": [
    "with open('model.pickle', 'wb') as file:\n",
    "    pickle.dump(classifier, file)\n",
    "with open('scaler.pickle','wb') as file:\n",
    "    pickle.dump(sc, file)"
   ]
  },
  {
   "cell_type": "markdown",
   "metadata": {
    "created_in_deepnote_cell": true,
    "deepnote_cell_type": "markdown",
    "pycharm": {
     "name": "#%% md\n"
    }
   },
   "source": [
    "<a style='text-decoration:none;line-height:16px;display:flex;color:#5B5B62;padding:10px;justify-content:end;' href='https://deepnote.com?utm_source=created-in-deepnote-cell&projectId=6b233aea-2742-47eb-a00a-56daf86d858d' target=\"_blank\">\n",
    "<img alt='Created in deepnote.com' style='display:inline;max-height:16px;margin:0px;margin-right:7.5px;' src='data:image/svg+xml;base64,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' > </img>\n",
    "Created in <span style='font-weight:600;margin-left:4px;'>Deepnote</span></a>"
   ]
  }
 ],
 "metadata": {
  "deepnote": {},
  "deepnote_execution_queue": [],
  "deepnote_notebook_id": "4a821a233a1f4c43a509ca0e7012669e",
  "language_info": {
   "name": "python"
  },
  "orig_nbformat": 2
 },
 "nbformat": 4,
 "nbformat_minor": 0
}
